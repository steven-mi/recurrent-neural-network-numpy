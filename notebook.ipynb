{
 "cells": [
  {
   "cell_type": "markdown",
   "metadata": {},
   "source": [
    "# Recurrent neural network with numpy"
   ]
  },
  {
   "cell_type": "markdown",
   "metadata": {},
   "source": [
    "## Prerequisite"
   ]
  },
  {
   "cell_type": "code",
   "execution_count": 1,
   "metadata": {},
   "outputs": [],
   "source": [
    "# some important imports\n",
    "import numpy as np\n",
    "from tqdm import tqdm"
   ]
  },
  {
   "cell_type": "markdown",
   "metadata": {},
   "source": [
    "## Encoding text"
   ]
  },
  {
   "cell_type": "code",
   "execution_count": 2,
   "metadata": {},
   "outputs": [
    {
     "name": "stdout",
     "output_type": "stream",
     "text": [
      "text is  1993 long and has  56\n",
      "first 10 datas:  [43 28 41 32  4 22 14  5 32  4]\n",
      "first 10 labels:  [28 41 32  4 22 14  5 32  4 22]\n"
     ]
    }
   ],
   "source": [
    "# data\n",
    "text = open('data/toy.txt', 'r').read()\n",
    "\n",
    "# text = 'Hallo'\n",
    "text_length = len(text)\n",
    "chars = list(set(text))\n",
    "char_length = len(chars)\n",
    "print('text is ', text_length, 'long and has ', char_length)\n",
    "\n",
    "# creating training data\n",
    "char_to_int = dict((c, i) for i, c in enumerate(chars))\n",
    "int_to_char = dict((i, c) for i, c in enumerate(chars))\n",
    "\n",
    "X = np.array([char_to_int[char] for char in text])\n",
    "y = np.append(X[1:X.shape[0]], X[0])\n",
    "print('first 10 datas: ', X[0:10])\n",
    "print('first 10 labels: ', y[0:10])"
   ]
  },
  {
   "cell_type": "markdown",
   "metadata": {},
   "source": [
    "## Forward pass\n"
   ]
  },
  {
   "cell_type": "code",
   "execution_count": 3,
   "metadata": {
    "collapsed": true
   },
   "outputs": [],
   "source": [
    "def forward_pass(X, hprev):\n",
    "    ht, pt, loss = [hprev[0]], [], 0\n",
    "    for t in range(len(X)):\n",
    "        # creating a one hot encoded vector\n",
    "        xt = np.zeros((char_length, 1))\n",
    "        xt[X[t]] = 1\n",
    "\n",
    "        # calculating forward pass\n",
    "        zt = np.dot(Wxh, xt) + np.dot(Whh, ht[t])\n",
    "        ht.append(np.tanh(zt))\n",
    "        yt = np.dot(Why, ht[t])\n",
    "\n",
    "        # getting probability distribution\n",
    "        pt.append(np.exp(yt) / np.sum(np.exp(yt)))\n",
    "\n",
    "        # summing up the loss of every output\n",
    "        loss += -np.sum(np.log(pt[t][X[t]]))\n",
    "    return ht, pt, loss / len(X)"
   ]
  },
  {
   "cell_type": "markdown",
   "metadata": {},
   "source": [
    "## Backward pass"
   ]
  },
  {
   "cell_type": "code",
   "execution_count": 4,
   "metadata": {
    "collapsed": true
   },
   "outputs": [],
   "source": [
    "def backward_pass(X, y, ht, pt):\n",
    "    dWhh, dWxh, dWhy = np.zeros_like(Whh), np.zeros_like(Wxh), np.zeros_like(Why)\n",
    "    for t in reversed(range(len(X))):\n",
    "        dout = pt.copy()\n",
    "        dout[t][y[t]] -= 1\n",
    "        dWhy += np.dot(dout[t], ht[t].T)\n",
    "        dh = np.dot(Why.T, dout[t])\n",
    "        dtanh = (1 - ht[t] * ht[t]) * dh\n",
    "        xt = np.zeros((char_length, 1))\n",
    "        xt[X[t]] = 1\n",
    "        dWxh += np.dot(dtanh, xt.T)\n",
    "        dWhh += np.dot(dtanh, ht[t - 1].T)\n",
    "    \n",
    "    dWhh /= len(X)\n",
    "    dWxh /= len(X)\n",
    "    dWhy /= len(X)\n",
    "    # gradient clipping\n",
    "    for dparam in [dWxh, dWhh, dWhy]:\n",
    "        np.clip(dparam, -5, 5, out=dparam)\n",
    "    return dWhh, dWxh, dWhy"
   ]
  },
  {
   "cell_type": "markdown",
   "metadata": {},
   "source": [
    "## Predict function"
   ]
  },
  {
   "cell_type": "code",
   "execution_count": 5,
   "metadata": {
    "collapsed": true
   },
   "outputs": [],
   "source": [
    "def predict(X, Wxh, Whh, Why, hprev):\n",
    "    ht, prediction = [hprev[0]], ''\n",
    "    for t in range(len(X)):\n",
    "        # creating a one hot encoded vector\n",
    "        xt = np.zeros((char_length, 1))\n",
    "        xt[X[t]] = 1\n",
    "\n",
    "        # calculating forward pass\n",
    "        zt = np.dot(Wxh, xt) + np.dot(Whh, ht[t])\n",
    "        ht.append(np.tanh(zt))\n",
    "        yt = np.dot(Why, ht[t])\n",
    "\n",
    "        # getting probability distribution\n",
    "        pt.append(np.exp(yt) / np.sum(np.exp(yt)))\n",
    "\n",
    "        # creating a prediction string\n",
    "        prediction += chars[np.argmax(pt[t])]\n",
    "    return prediction"
   ]
  },
  {
   "cell_type": "markdown",
   "metadata": {},
   "source": [
    "## Updating parameter with adagrad"
   ]
  },
  {
   "cell_type": "markdown",
   "metadata": {},
   "source": [
    "### Intizializing hyperparameter"
   ]
  },
  {
   "cell_type": "code",
   "execution_count": 6,
   "metadata": {},
   "outputs": [
    {
     "name": "stdout",
     "output_type": "stream",
     "text": [
      "Training  200  epochs with a sequence size of  15 , a hidden size of  200  and a learning rate of 0.1\n"
     ]
    }
   ],
   "source": [
    "seq_size = 15\n",
    "hidden_size = 200\n",
    "learning_rate = 1e-1\n",
    "epochs = 200\n",
    "\n",
    "print('Training ', epochs, ' epochs with a sequence size of ', seq_size, ', a hidden size of ', hidden_size, ' and a learning rate of', learning_rate)"
   ]
  },
  {
   "cell_type": "markdown",
   "metadata": {},
   "source": [
    "### Initizializing learnable parameter"
   ]
  },
  {
   "cell_type": "code",
   "execution_count": 7,
   "metadata": {
    "collapsed": true
   },
   "outputs": [],
   "source": [
    "Wxh = np.random.randn(hidden_size, char_length) * 0.01\n",
    "Whh = np.random.randn(hidden_size, hidden_size) * 0.01\n",
    "Why = np.random.randn(char_length, hidden_size) * 0.01"
   ]
  },
  {
   "cell_type": "code",
   "execution_count": 8,
   "metadata": {},
   "outputs": [
    {
     "name": "stderr",
     "output_type": "stream",
     "text": [
      "\r",
      "  0%|                                                                                          | 0/200 [00:00<?, ?it/s]"
     ]
    },
    {
     "name": "stdout",
     "output_type": "stream",
     "text": [
      "loss at epoch  0  is  4.1273035967\n",
      "gs iynon dndngII]kW\n",
      "]\n",
      "b\n",
      "b\n",
      "bâbÃ]â\n",
      ".\n",
      ".\n",
      "b\n",
      "bâbz]f\n",
      "u\n",
      ".\n",
      "[âbjAW\n",
      "u\n",
      ".\n",
      "b\n",
      "bâb])Wpu\n",
      ".\n",
      "b\n",
      "bâbâ]W]u\n",
      "N\n",
      "b\n",
      "bâbâb(]â\n",
      ".\n",
      ".\n",
      "b\n",
      "bâ]ÃAu\n",
      ".\n",
      ".\n",
      "[âbâbÃcu\n",
      ".\n",
      ".\n",
      "bâbâbÃ\n",
      "u\n",
      ".\n",
      ".\n",
      "bâbj]W\n",
      "u\n",
      ".\n",
      "b\n",
      "bâbjAW\n",
      "u\n",
      ".\n",
      "b\n",
      "b\n",
      "bjbÃ\n",
      "u\n",
      ".\n",
      ".\n",
      "bâbj]W\n",
      "u\n",
      ".\n",
      "b\n",
      "bâbjAâ\n",
      "u\n",
      ".\n",
      "b\n",
      "bâbj]W]u\n",
      ".\n",
      ".\n",
      "bâbz]W\n",
      "u\n",
      ".\n",
      "b\n",
      "bâb\n",
      "]W]u\n",
      ".\n",
      ".\n",
      "b\n",
      "bâbW]u\n",
      ".\n",
      ".\n",
      "[\n",
      "bâ]W]u\n",
      ".\n",
      ".\n",
      "bâbj]W]u\n",
      ".\n",
      ".\n",
      "b\n",
      "bâbÃ]u\n",
      ".\n",
      ".\n",
      "bâbâ]Ã]u\n",
      ".\n",
      ".\n",
      "bâbj]W]u\n",
      "p\n",
      "b\n",
      "bâb]AW]u\n",
      "N\n",
      ".\n",
      "bâbzbÃAu\n",
      ".\n",
      "b\n",
      "bâbI]W]L\n",
      ")\n",
      ".\n",
      "b\n",
      "bj]W\n",
      "u\n",
      ".\n",
      "b\n",
      "bâbjAâpu\n",
      ".\n",
      "b\n",
      "b\n",
      "bI]W\n",
      "u\n",
      ".\n",
      "p\n",
      "b\n",
      "bj]W\n",
      "u\n",
      ".\n",
      "p\n",
      "bz]]]u\n",
      ".\n",
      ".\n",
      "p\n",
      "bâ]Ã]â\n",
      ".\n",
      ".\n",
      "b\n",
      "bj]W]u\n",
      "u\n",
      ".\n",
      "[\n",
      "bâ]Ã]â\n",
      ".\n",
      ".\n",
      "b\n",
      "bâ](]â\n",
      ".\n",
      ".\n",
      "bâb\n",
      "bâ]W\n",
      "u\n",
      ".\n",
      "b\n",
      "bâb(]â\n",
      "u\n",
      ".\n",
      "b\n",
      "bâbâ]W]w\n",
      "u\n",
      ".\n",
      "b\n",
      "bâbj)â\n",
      ".\n",
      ".\n",
      "bâbâb]]f\n",
      "u\n",
      ".\n",
      "bâb\n",
      "b(Aâ\n",
      "u\n",
      ".\n",
      "p\n",
      "bâb(Aâ\n",
      "u\n",
      ".\n",
      "b\n",
      "b\n",
      "bIAW\n",
      "u\n",
      ".\n",
      ".\n",
      "bâb]bW\n",
      "u\n",
      ".\n",
      "b\n",
      "bâbjAW\n",
      "u\n",
      ".\n",
      "p\n",
      "bâb(]â\n",
      ".\n",
      ".\n",
      "b\n",
      "bâbj]W]u\n",
      ".\n",
      ".\n",
      "b\n",
      "b(]W\n",
      "u\n",
      ".\n",
      ".\n",
      "bâb])â\n",
      "u\n",
      ".\n",
      "b\n",
      "bâb\n",
      "]j]â\n",
      ".\n",
      ".\n",
      "b\n",
      "bâb]AW\n",
      "u\n",
      ".\n",
      "b\n",
      "bâb]]W]u\n",
      "N\n",
      ".\n",
      "b\n",
      "bjbW\n",
      "u\n",
      ".\n",
      "b\n",
      "bâbâb(]u\n",
      "u\n",
      ".\n",
      "b\n",
      "bâ]W]W\n",
      "u\n",
      "b\n",
      "b\n",
      "bâbâ]€)w\n",
      ".\n",
      ".\n",
      "p\n",
      "bz]W]u\n",
      ".\n",
      ".\n",
      "b\n",
      "bâbj]â\n",
      "u\n",
      ".\n",
      "b\n",
      "b\n",
      "bj]â\n",
      ".\n",
      ".\n",
      "b\n",
      "bâbj)W\n",
      "u\n",
      ".\n",
      "[\n",
      "bâbW]â\n",
      "u\n",
      ".\n",
      "b\n",
      "bâb(]W]u\n",
      ".\n",
      "b\n",
      "bâbâbW]u\n",
      ".\n",
      ".\n",
      "I\n",
      "bâb()â\n",
      ".\n",
      ".\n",
      "b\n",
      "bâ]]]u\n",
      ".\n",
      ".\n",
      "b\n",
      "bâb()â\n",
      "u\n",
      ".\n",
      "b\n",
      "bâ]W]u\n",
      ".\n",
      ".\n",
      "b\n",
      "bâb()â\n",
      ".\n",
      ".\n",
      "b\n",
      "bâb]]w\n",
      ".\n",
      ".\n",
      "b\n",
      "bâb]AW\n",
      "u\n",
      ".\n",
      "b\n",
      "b\n",
      "bj]W\n",
      "u\n",
      "b\n",
      "b\n",
      "b\n",
      "bâb(]w\n",
      "u\n",
      ".\n",
      "b\n",
      "bâbjAW\n",
      "u\n",
      ".\n",
      "p\n",
      "bâbz)âpu\n",
      ".\n",
      "b\n",
      "b\n",
      "bjbW\n",
      "u\n",
      ".\n",
      "b\n",
      "bâbâ.W]u\n",
      ".\n",
      ".\n",
      "pâbâ]W]u\n",
      ".\n",
      ".\n",
      "bâbI]wzL\n",
      ".\n",
      "b\n",
      "bâbâbj)W\n",
      ".\n",
      ".\n",
      "p\n",
      "bâb]Awpu\n",
      ".\n",
      "b\n",
      "bâbj]W\n",
      "u\n",
      ".\n",
      ".\n",
      "bâbj]W\n",
      ".\n",
      ".\n",
      "pâb\n",
      "bj]W\n",
      "u\n",
      ".\n",
      "b\n",
      "bâbâb(]u\n",
      "u\n",
      ".\n",
      "pâbâb])â\n",
      ".\n",
      ".\n",
      ".\n",
      "bâb()â\n",
      "u\n",
      ".\n",
      "b\n",
      "bâb]]â\n",
      ".\n",
      ".\n",
      "bâb\n",
      "bj]W\n",
      "u\n",
      ".\n",
      "b\n",
      "bâbj)â\n",
      ".\n",
      ".\n",
      "pâbâbj)â\n",
      "u\n",
      ".\n",
      "b\n",
      "bâbjAW\n",
      "u\n",
      "b\n",
      "b\n",
      "bâb]]W\n",
      "u\n",
      ".\n",
      "b\n",
      "bâbj]W]u\n",
      ".\n",
      ".\n",
      "b\n",
      "bj]W\n",
      "u\n",
      ".\n",
      "b\n",
      "bâbI]â\n",
      "u\n",
      ".\n",
      ".\n",
      "bâbj)â\n",
      "u\n",
      ".\n",
      "bâb\n",
      "bI]W\n",
      "u\n",
      ".\n",
      "b\n",
      "bâb]]W]u\n",
      ".\n",
      ".\n",
      "bâbjAW\n",
      "u\n",
      ".\n",
      "p\n",
      "bâb]Aâ\n",
      "u\n",
      ".\n",
      "b\n",
      "b\n",
      "bI]W]u\n",
      ".\n",
      ".\n",
      "bâbjAWpu\n",
      ".\n",
      "b\n",
      "b\n",
      "bjbÃ\n",
      "u\n",
      ".\n",
      ".\n",
      "[âb]AW]u\n",
      ".\n",
      "b\n",
      "bâbj]W\n",
      "u\n",
      ".\n",
      "b\n",
      "bâbâbÃ]u\n",
      ".\n",
      ".\n",
      "[âbjAW\n",
      "u\n",
      ".\n",
      "b\n",
      "bâbj]W\n",
      "u\n",
      ".\n",
      "b\n",
      "b\n",
      "bI]WAL\n",
      "N\n",
      "b\n",
      "b\n",
      "bjbW\n",
      "u\n",
      ".\n",
      ".\n",
      "bâb]AW\n",
      "u\n",
      ".\n",
      "p\n",
      "bâbj]â\n",
      ".\n",
      "b\n",
      "b\n",
      "bâbz]W]L\n",
      ".\n",
      "b\n",
      "bâbj]W\n",
      "u\n",
      ".\n",
      "b\n",
      "bâbj]âzL\n",
      ".\n",
      "b\n",
      "bâbâbÃ]u\n",
      "N\n",
      "b\n",
      "bâbjbW\n",
      "u\n",
      ".\n",
      "b\n",
      "bâbâb(]u\n",
      ".\n",
      ".\n",
      "p\n",
      "bzb(]f\n",
      ".\n",
      ".\n",
      "b\n",
      "bâ]W]N\n",
      ".\n",
      ".\n",
      "b\n",
      "bâbÃAL\n",
      "N\n",
      ".\n",
      "bâbj]Ã]u\n",
      ".\n",
      ".\n",
      "[âbIAg]L\n",
      ".\n",
      ".\n",
      ".âbj]W\n",
      "u\n",
      "b\n",
      "b\n",
      "bâbjAW\n",
      "u\n",
      ".\n",
      "b\n",
      "bâbâbÃ]u\n",
      ".\n",
      ".\n",
      "bâbâb]]w\n",
      "u\n",
      ".\n",
      "p\n",
      "bâbÃxâ\n",
      ".\n",
      ".\n",
      "b\n",
      "b\n",
      "bj)â\n",
      "u\n",
      ".\n",
      "b\n",
      "bâbj]Wpu\n",
      ".\n",
      "b\n",
      "b\n",
      "bâbÃ]T\n",
      ".\n",
      ".\n",
      "bâb\n",
      "bj]â\n",
      "u\n",
      ".\n",
      "b\n",
      "bâbz]W]L\n",
      ".\n",
      ".\n",
      "b\n",
      "bâ]W]u\n",
      ".\n",
      ".\n",
      "bâbâbj)â\n",
      ".\n",
      "b\n",
      "b\n",
      "b\n",
      "bj]W\n",
      "u\n",
      "b\n",
      ".\n",
      "bâbjAW\n",
      "u\n",
      ".\n",
      ".\n",
      "bâbI]gpu\n",
      "b\n",
      "b\n",
      "b\n",
      "bâb€]â\n",
      "u\n",
      ".\n",
      "b\n",
      "bâbjAW\n",
      "u\n",
      ".\n",
      "p\n",
      "bâbI]W\n",
      "L\n",
      "b\n",
      "b\n",
      "bâbj]Ã]u\n",
      ".\n",
      ".\n",
      "bâbj]W]u\n",
      ".\n",
      ".\n",
      "b\n",
      "bâb(]u\n",
      ".\n",
      ".\n",
      "b\n",
      "bj]W\n",
      "u\n",
      ".\n",
      ".\n",
      "bâbjAW\n",
      "u\n",
      ".\n",
      "p\n",
      "b\n",
      "bj]W]L\n",
      ".\n",
      ".\n",
      "[âbjAW\n",
      "u\n",
      "b\n",
      "b\n",
      "b\n",
      "bW]â\n",
      "u\n",
      ".\n",
      "b\n",
      "bâbzAâ\n",
      "u\n"
     ]
    },
    {
     "name": "stderr",
     "output_type": "stream",
     "text": [
      "  5%|████                                                                             | 10/200 [00:05<01:35,  1.99it/s]"
     ]
    },
    {
     "name": "stdout",
     "output_type": "stream",
     "text": [
      "loss at epoch  10  is  3.33348988261\n",
      "gs,onhennnn ngIC”0I00j10\"j”0lb9\"0\"j0j(\"jjb\"b0zI©\"j00jCTb\"”€\"€ÃI\"j0jI\"b(xj\"j0jb\"z0x€jj\"b0I€\"0bxb0x(jj\"j\"b\"jIb”\"I0jTI€\"j\"\"9b\"x€\"jI0\"x9”x1b\"b0jI0b€jb”00€\"b90b0€j0b€jb\"00€\"b\"jW\"b9jb”00€\"b00”zb0I0jb\"jb\"\"x\"\"b90b0I9bWjT€bW\"jIb€0b\"€jIb0I00bb\"j0b9j€”b\"bzx(9b\"jLIWjb0j€j0T0Ix\"Ib0x0jj”\"\"zjb\"b0€Ixb0j€j0jb\"jI0”0I(xIb0000b00jI\"\"I\"\"Ib0jb€\"0\"j0j(\"jjbb0jbI9x1b0Ix©jT0jb\"\"j\"j0jxb\"b0jI0b€jb”00€\"Ib0jb€b\"x€\"jIxb9jb”00€\"b\"jW\"\"T0x0b\"b9jI0b€jb”00€\"b90b\"TIb\"x0I(\"bxb00bb”0x€\"bhjW\"€Ã00jI\"b0I€\"b000Ib0I0\"IIb\"bzx(\"jIb€jb”00€\"\"b\"b0jbI0Tb€j\"”00€\"\"b\"b€\"jL0z2b9j\"”00€\"1b\"b€\"T2x”0b9j\"”00€\"1b\"\"jT0jb0jb000j\"b€\"j\"b0\"b0jW0jb0xb\"I00j0jx\"T000jb0zI©\"j00jCTb020\"jWl0\"b\"b\"jI0b€jb”00€\"b\"jW0jI\"b9€jb0I0\"jxTj1b\"j00jW\"jjb\"b\"jIbz0xb\"\"I\"\"b0jb0jbj\"0€\"b\"jW0€Exb€jb”00€\"b9bb00xb0jjTx\"xj0xb0x(IIx\"b\"j00j\"\"jIb\"jIbzjjIb0I9jxjT€€jb\"jb0jI0I€\"xb€bb\"I0I”b00xb0\"b0x00jb\"jT€0I\"\"jT0I02I0x1b0Ijb0x0j€jjIj”x\"b0jb0zI©\"j00jCb0\"b0b(I\"Ljb0\"0Ib0jb00xb\"\"L\"9bb€bW00xb00z0b0x€\"j\"II0j0b0jb00xb0\"bzx0\"b9bb\"”€j\"Ã0jI\"b€\"jb\"0(j02b\"b00jjT0jTjj0\"90Ib\"”€j€Ã0jb0€j0b90b0x00j\"Ib0jb0\"I”00j0jW\"€jb\"b0Tb0jW00xb0xj\"9\"2b9€jb\"jb0j€0j€x€\"b02b000j0jW\"€jb\"€bb\"jb\"0\"I02ITb0jb\"j\"jIj€I0b00\"x9”x1b0Tb0jW0jI\"b0jb\"jb0jI00Lb”xb0\"bzx0\"b0jb\"€I\"9b0x€xj\"TIb0I€1b€Ix\"b0jbI0jIj\"b0I€\"jj0\"I02Ib00j€xb00jI0jj\"jT€bW0I0\"CIb0jII0j0b0jb00xb0j00j0000b0jb€\"0\"jW2b0\"bzjb\"b00jI9jI0b0jW00xb0xj\"9\"2b9€jb9I020\"\"b0jb\"j\"0j\"xb\"b(xI0jbIb0I9bWIb0jb9\"jWj”0I9b00j0b0I€\"jxIj\"zb00jb9jb”00€\"b\"jWI\"00x\"b0jb\"b0jbxTI1\"b0jI0T000jb0\"I(00jWlb0zID0j00jC0j00€T0b€0j\"jb\"\"jj0b\"jIb0I\"xI0I€\"€\"\"b0jI0b€jb”00€\"b\"jW0j0\"jWl0Ib0jb\"TjIb\"jT0€Ex\"00j\"b9bb\"b0I€\"jj\"j\"”bI©\"0xI0\"j”02b0\"b\"x\"\"jj\"\"b0j€\"jj”b00”0b\"jT0Ib0”0L€IIb0x1\"j\"b\"jIb0II00jb0jj\"”W\"jb0I0xIb0Ijxb\"jjTx\"b00\"zb0jI0b€jb”00€\"jW0xTj0jbb\"j©0b0jb\"0j(b\"\"Tx\"\"j€\"b00”jb00j\"b0Ijxb0jb\"\"Tjjb\"900b0xI\"b00jI\"b\"jIbz0”zb0jI0b€jb”00€\"jWjjI\"b0jb0x(9b0jj\"I\"\"0”\"j0jb\"j\"”0j\"b\"xx\"b0jb0xI\"”€\"b\"jDjIlb\"j00j0jW9b\"\"0x00j\"”xIb00x\"b\"jjTxb00”zb0x(9”0jj\"I\"ljI0b9jb”00€\"jW\"jxb9bWx\"b\"x0Ib\"jjTx0xj\"b€0bIb00xb0I€\"€0jb0\"I0x(j0jb\"jI0b€jI\"b0\"b02b000jW1b0\"b\"x\"\"jj\"1b\"jIb\"jbb€bWx\"b00j\"2Ib\"j\"I0x(j0j\"b9”b\"j\"x0jIb\"jIb0\n"
     ]
    },
    {
     "name": "stderr",
     "output_type": "stream",
     "text": [
      " 10%|████████                                                                         | 20/200 [00:09<01:26,  2.09it/s]"
     ]
    },
    {
     "name": "stdout",
     "output_type": "stream",
     "text": [
      "loss at epoch  20  is  3.51585320064\n",
      "gs inhonnnn  gI)kIIh0IIIh]TI2IbIh]T€AIh]pAIIThIh]T\"]TT[III€xbIIhx\"T0IIIIIh2€CxID0IT]IIIbII0]AII2IIIIhqIIIAIII€II€hIh]pAIlbxI\"xTT€h2ThxIAIIkbT0IC€xI\"]2AIf2II€T\"b\"€xI\"]2AIhTTII\"€xI\"]2AI\"0IhAbIITApAIIIIIhAbIIII2€xTACbIfxII€2Ibb2IIIIbDIIkbTACAh€AIIIII2Ix\"IIxII€qh€hD]LIkbIIII\"I0AIh]xII0€IIII€€T\"III(T€IhLhAIb€h\"0A\"0IIIIIIhIIIxIfI\"]T€AIh]pAII\"wIkbII0III0Ah€Tb€xhbDAIIII2bT0IC€xI\"]2AIIIxIfIIIIh]LII\"€xI\"]2AIhTTI]D0IIIII2bT0IC€xI\"]2AIf2Ih\"âAxIIIh]LIIIhxIâAIIhI€TAI€II\"ATIITIIDDITl(IIIkkbIIII\"I€IbII\"€xI\"]2AIIIII\"I\"h\"b\"€xI\"]2AIIII\"h]2\"hzIC€xI\"]2AIIIICh\"zI0TIC€xI\"]2AIIIh€IIII\"zII0]T0III(IIDDAhTThfIbIIbII€T€AIIIIIIxIThIh]T\"]TT[I\"zIhTIkkbIII2bT0IC€xI\"]2AI€TTCTAII\"€2IIIbIIIhAIII0h]TIh]pAIIIAII\"0IIbIIIhAhAII€I0h]2xI€TA0fIII\"€xI\"]2AIfbIh0IIIhA\"xIIxIIIIxhT\"IxIIT\"]TIhAIbIAII\"xIIITI2€xTqC€2IpAI€qThIbIIIfIIIIhIIII0IIDDxIII\"AII(AW2III(AIII2IIxIIII(AIIhqhxTICIAII€qII\"Ih]T\"]TTII\"III\"IÃIbIII2bI€qID0IIbDAIkbIfIIh0IIIAh0AIxIh€xIIIAIIIxI\"0III€xh]IDAbbIII€xbIhT0II\"€2IIIIbIlIIAh0]TAhTTCT€Il2\"III€xbIhTAIfT\"bbxIIIIIIhAIIxIIkI(ThDhTIh]pAIIDDbhTTh0IIIbII2\"zI\"€2IpAI€qI€2IIChbIkITThAhTIh]pAIfbIIAIIIIbIlIIIIxIIIh\"IIDIkIT€h2ThxIAh\"AhTTCTAII€qIIAI€qTCWIAIIII€xhbIDAh€Ab€IIkIIxAI\"h\"âTII\"bI€IxIII\"IIhIIT[IIII\"”T€kIIkbIThqICI\"0III€2I0Ib\"IIIbIlbII\"IIII\"IDxID0IIIIIT0IIIIAIxIfI\"]TI2II€xhxTqIh0II2bT0IhTAC0IIIbII2\"zI\"€2I\"Ih2\"xIbh€TII0]AC\"IIIIIThxIIIII2€xIIIxI\"hxIAIhLlI\"DLTIbIAIIIIIxhbhÃII\"€xI\"]pAIhTTCII0bII\"€TIIb€xI\"IbIAkbT0IIIIxIIlI(ThTIkIThIh]T\"]TTIIII€\"0A\"xII€2Ah]T\"bIAIIII\"I0hLAIIIII2bT0IC€xI\"]2AI€TThzIhTIkkbIDxIIDAIbI(A0€IIh0]AIb€\"IIIIIII[IT€xITbIh0IIIh]TI2II€xIbIh]pAIII\"2D]T0II\"€0II(AIIIIIIIbITqCIIhxIIIAIIII(ThIIIhT0C2I(AII2III0IIIIIbI€xIIh0IhAjbTTIC€xI\"]2A0IIII€h2IIb€hÃII\"IIhAIIID\"AIh]pAI\"0IzI\"0III0IIIIDxIIh\"]2AIl2\"IIxIxII€LIxIIAII\"0IhAjbTTIC€xI\"]2A0IIâAII€qIIII2II€22bIIIIh2€CxIbIIhxIIxIIII\"€TII\"kIIhAIIh€IlbIII€2\"€IkIIIAIIDANIIIIT0IIIIbI€xI\"0IhA\"II2II€22bI2bT0IC€xI\"]2A0IpIII€bhAIIT\"IIAIhA\"xIIxhb\"xTIID0IITI€f\"0III\"IIIhx\"TAbAITAC©AIIb\"IIlI(ThTIkII€xIIIh]pAIIIAIIIbII€bhAII0hA0kbII(IIIIhx\"T[A€€xk”AIIbIqNAIII\n"
     ]
    },
    {
     "name": "stderr",
     "output_type": "stream",
     "text": [
      " 15%|████████████▏                                                                    | 30/200 [00:14<01:20,  2.11it/s]"
     ]
    },
    {
     "name": "stdout",
     "output_type": "stream",
     "text": [
      "loss at epoch  30  is  3.40555608766\n",
      "gs onhonnnn ngI bbl\"€q\"l\"z€l\"I€]\"Dq\"\"0\"€\"”\"\"]\"A\"©A\"zqâ€qq0©)\"[\"\"[\"€â€q\"x\"hA€z”Ihjq€jj\"\"[0€j\"D\"\"\"\"D0)\"0\"\"00L\"€\"\"\"1\"l\"©”1l\"\"[]\"©\"\"€zq\"jq\"T0A\")\"zq\"€”\"h€z”\"\"\"\"€\"\"\"qD)0\"\"\"z”\"zAq0AT\"\"jh€z”\"\"€2\"I\"lqA\"l\"Iq\"\"\"\"\"\"\"\"©0qL0]\"©\"\"©)\"\"€\"\"[\"\"\"\"©0I©0\"I\"\"T\"”\"zqlq\"]0\"\"[\"\"\"\"\"\"©)\"€\"\"€”qjjA\"]\"Dq)x0\"D)\"\"0€\"\"I©€\"\"\"zAlA\"€jzA\"xAI\"\"\"€I\"€q\"2\"\"\"\"[\"©)\"©\"\"€q\"âA\"z\"”\"q\"jA\"]\"\")\"\"\"jA\"€IA\"0\"q\"âA\"0A\")\"zq\"€”\"h€z”jq\")q\"\"I]\"\"\"”âIf[\"\"\"€z”\"zAq©\"h€q\"I0A\"\"Azq\"€”\"h€z”\"\"\"\"h\"\"I\"q\"l\"€\"\"I©]\"\"©\"\"\"©\"zqIAz”lz\"\"€q\"0ID\"10\"jA€0jIq\"\"0A\"]\"-0L\"L)Djh\"z”j\"0qq)\"\"z\"\"T[”Ah\"z”j\"lq[\"z\"”\"\"AD)\"\"\"€z”j\"lqL\"\"€jAzAT[\"\"h€z”j\"\"\"€A\"D\"h)\"\"0q€jA€0\"x\"h\"I2A\"\"€qA©\"\"0qDq\"z\"\"\"\"\"\"\"\"]\"l\"©A\"zqâ€q\"\"qz€ljqqT0q\"\"Azq\"€\"\"h\"z”\"z0q©0xj\"\"\"jID0\"l[\"\"xAIx)\"z\"l\"©””j\"l0L\"\"9qA2A\"0\"\"\"0\"©)qAhz\"”q\"A\"j€”\"\"\"\")jh\"z”\"€\"\"h9q\"D\"\"\"jA\"0\"0\"D]\"€2\"\"\"q)hz\"l\"xA\"0\"D\"\"\"(jA\"0jI0]\"\"\"IA00\"€)\"\"l1Dq\"€\"\"L0\"0AI\"0q\"€\")Dq\"h€q0A[©]qI0AI\"00\"0q©\"T\"0]\"\"q\"D\"\"jAIjq\"\"D)\"©\"”\"©A\"zqâIj\"\"\"\"HljD[\"\"0jL\"©0\"\"€q\"A\"q\"Iq\"©\"I\"9q\"©\"h€q€x\"\"€\"jA\"\"\"\"\"0\"\"€q\"€\"”\"x\"hA\"\"\"\"€©0jq\"©A€q\"jI\"q\"lÃ\"\"\"\"T\"9”AI2A\"1A€lqqjT]\"€)\"q\"j\"€\"A\"qzj\"\"]\"jq\"CA\"0\"€\"lAL€\"zql\"©””q\"h\"\"DAI\"jq\"D]\"0\"\"\"\"\"\"I\"00\"€)\"zjjj\"\"\"\"\"lAL€\"zql\"©””\"\"\"T00\"q\"-Ã\"\"\"\"\"\")ql0\"€jIh0jIA€©q\"\"0\"I\"\"\"zAI€A\"A\"D0\"00\"€)j€jlÃjq\"€\"\"\"x\"h\"\"€q[\"q\"\"\"\"0\"\"\"z\"âI20\"\"\"€\"\"jIÃ\"\"Ã\"L\"â€q\"0\"\"\"q1jbqjjq]€\"\"q\"\"9q\"D\"I\"jq\"\"q10qljL\"\"\"l[\"j\"\"€)\"\"€qA©\"\"\"\"[\"\"zq\"0\"€\"\"\"ql\"I€\"\"\"\"jjT\"€j\"©\"\"z\"zAT\"€q\"©]\"0\"\"\"\"\"\"I\"T0q\"”€j\"\"\"Iljâ”\"\"\"\"0AD0A€j\"\"I\"0\"\"©AI\"\"\"\"\"”lÃ\"€0jI\"\"A\"IA000q0\"\"\"\"\"\"€q\"T\"D\"h\"z”\"z0q\"0qÃ\"\"\"\"\"qlq[\")\"\"lj2A\"”\"zC\"\"\"\"\"€\"lA€€qljI]\"l\"©A\"zqâ€\"\"1z”€ADjq\"D]\"\"\"A\"ql0A\"\"0qq)€0LI\"\"0q\")Azq\"€”\"h€z”\"zAq\"\"Iz”ljq\"T\"xql\"x\"\"0\"I]€”\"z€”\"j\"€\"I0A[0€©\"jj10q\"[0\"€\"\"l\"©€l\"I€\"\"\"q0\"€\"\"\"q\")\"\"zqâIj€jâAlA[\"[q\"\"\"0AL0T\"\"\"\"Ãj\"00L\"\"0A\"€q\"\"\"Dz”\"AAT\"lqq\"I00L\"\"0xq\"j\"I\"jq\"D\"âAâAf[\"\"h€z”\"\"\"q\"D\"\"\"\"A\"hjI\"\"\"0\"x\"I0\"\"\"”zz\"D\"\"€2AI\"9q\"T00\"jAhx2[h\"z””l\"jII\"\"\"\"\"\"\"\"\"”I00\"\"\"9q\"IjâAâAf[\"\"h€z”\"\"\"AqA\"D0\"\"]0\"\"\"\"IjqqL0\"©Azz”\"[0\"h0jT)\"\"\"\"\"\"qH2\"Iq\"\"\"2\"\"€jqIxA\"©\"\"€”\"Ix\"Ix\"h]\"D]\"q\"\"q\"IAqj\"2Ah92\"Djqlk]\"D\"\"LI\"”\"âAf[\"\"h€z”jT0\"q\"€\"\"xA\"©\"IjA\"\"\"\"2A\"\"\"\"\"\"\"\"\"\"€q\"][\"z\"€Aqj\"A\"\"\"x”€qz”qAI\"A\"\"\"j\"T€\"lw\"€\"ljI€\"”\"q0\"\"\"\"j\"0ÃL\"00\"\"©\"\"\"A\"©D\"\"q\"T0A\"[\"©\"xDqâA\"\"\"\"\"[jljj\"0ÃL\"L\n"
     ]
    },
    {
     "name": "stderr",
     "output_type": "stream",
     "text": [
      " 20%|████████████████▏                                                                | 40/200 [00:18<01:15,  2.11it/s]"
     ]
    },
    {
     "name": "stdout",
     "output_type": "stream",
     "text": [
      "loss at epoch  40  is  3.5290951208\n",
      "gsmon hnnnn igI  artevwI\"\"q1AA9”\"zÃ\"ÃÃ\"z9©qAâ\"Ã\"zâ\"€qâxq\"]00\"ÃxÃTzqAxq\"x]\"âz9Ãq\"9©9xk[AÃÃ\"xÃx.AAxkAx\"xAA0ÃIAx€[AÃ]Ã\"z€©\"AAx]1C9âx€xxqx€A1AA0â[AA9xq\"€9©q9CAq0â\"Ab€xq\"€9©qLâA0Ab92q\"€9©q\"9k\"AÃIAâA0ÃAx]xx]A9CA10AÃxâA0AI0”IA0CA\"€A\"q0ÃbzI1AxâA0”\"€A1Axx”AAx\"Ã\"xÃALx]ÃÃ\"zk\"AAAxxCAxâx2\"LxqA]€ÃxqA9€â\"2A1]1€”\"A\"xAA0z\"9A\"hxAx]\"[\"AAAxq9”\"zÃ\"ÃÃ\"z9©AT€z1AxÃAâxx”âA\"€A\"zx]A99]A1AA0â[AA9xq\"€9©1A0xI9Axxq\"zkxqb9xq\"€9©qLâAxz\"9©AA1AA0â[AA9xq\"€9©q9CALzâAx]A1\"z9\"A\"zxqATx]\"A€qAI0Ã1zxq[AqÃAz€]âAAAx1AAxIA0ATx”1Ã\"AAÃxq\"€9©IA0AT€zAz\"AI[xq\"€9ÃIA0AÃÃ\"Az\"Wqb9xq\"€9ÃIA0Ab€\"x]A1Ab€xq\"€9©IAx\"x9x1ALxI09Cq9Aq1]x]LzA\"âA\"€A1xAA1AzÃ\"9xA[2\"IxAA\"Ã\"zâ\"€qâxq\"ICzqIIAAA1AA0â[AA9xq\"€9©qLâAhâxAAA€AA10A1Ãx\"xAAxâ\"€ÃA\"z9©1A0ÃIA\"h©Ax]\"[\"Azxq\"Lxâ\"€9©qLâAâ€Ãxqb9xq\"€9Ãq9AI\"9xA\"zATxAx”qxAbx\"Ix]xAxâ\"€ÃA\"xAA0Ã]A\"AzxAI0AÃxâAT0AA1ÃALxâ\"ÃÃqxA0AAI0\"ÃAA\"x©Aq0”qx”\"[A1âA0”1A0]A9”AAÃ\"x[AIÃâAxx\"xhT0A[q\"1AzxqA\"Ã\"zâ\"€qâA12ATLxq90ÃATÃ-AA\"xI\"9©AAzA1AxA9AI\"9xA00\"9Aqxx\"[x\"I€1\"AIxA\"9©Aq0”]x]\"A0AIx][x9Ã9qâx]b9CAx]IÃA-x1A\"9”A1zâAhâ[”IAAAx][x9Ã9qAq9â\"A0AATx”Axq[AIxAqA1â1\"AzqI\"z9Ã1Az\"Azâb\"9©ATxg\"A\"\"Ab€AA1ÃALxq0xAxq\"AqA1]1\"AzqI\"z9Ãq9AI0ÃAx0IÃAAx]AIxA1]\"L]bzIIAâx[x”qx”A\"zA\"âAhâxAAzxq1ÃALxâ[xqÃq1Aq9”]x]\"A\"€A\"0AxAA\"xgqAz\"]ATÃzAA9”\"ÃAT€xÃzÃÃâ[AAÃA\"zq1AÃA-AAâ\"xqxA\"hxAI0C\"âA0AI9ÃA1AAA9€qÃ99TAzxq\"9©A\"€qAâT€A\"IIxA9”\"zÃ\"AA\"€”]T9AA\"9©AI0â1T€âA\"hxA\"xg\"A\"\"Ab€AAbÃzAzxqA\"€A19x\"x]\"q1A\"xâ\"€xAAÃ]IÃxIAIxqb€xq0q\"1AAT€â\"AÃI0]AxÃxk\"A\"hxAb9xq\"€9ÃqLâAÃIAAxAA\"€A1AÃ€xI\"[A\"AA0â[Tx\"1xIqA1â1\"q1AAâ\"Ã\"zâ\"€qâ€”\"b€”xAb€x1[xg\"zâ\"A0ÃIA9A\"xâ\"1x]9ÃIAA0â[AA9xq\"€9©qLâA\"ICzqAIAAA\"[x”\"xAA0âAâ€Ãx]xÃ”AA0AIÃAL0q\"2A9]xAAÃI\"9xÃ1\"zqIIAx0”Ix”\"L€”1A0T\"\"zqAAâ[q\"A1âA\")A0CIÃA\"âA9xÃ\"xqA0Ã]A9Aâ1\"ÃA\"zqx9A1âA9”-]âA9kAxq1Ã”bxAA\"hk\"AI0â[AA9xq\"€9©hAxxq[ÃTxAA9q\"ALbxk\"xÃA1Ã\"xx\"z9©A\"9k1A\"9©qA9”qx]\"[\"1z\"z9ÃqAAAA\"x©kALz”\"xA1Ã-A\"hk\"AI0â[AA9xq\"€9©hA0âxAAzxqbx”AA10A-AA\"x]\"âz9ÃqAAzzxqAx]xAA\"€AIxAIx]\"A0]\"€]-AxÃAzxzqAIAx\"TxAzxxqx]A\"9©qA0Ã\"bxI\"9k\"Axx”AA19AIAAA0â[AA9xq\"€9©hA0AxA9A\"xkAIxA\"A\"zATxAx”]AA[0ÃA\"92AAÃ0€\"x”Aâ\"ÃÃx]TzqA0”I]A0âxAA\"AAqA1â1\"q1AAq0”Ix”\"L€”qA0Ã]A0AxA9A\"xkA0CA9”Wq0]\"ÃÃx]xzq1qx]x-zxq1bzA1ÃIA\"\n"
     ]
    },
    {
     "name": "stderr",
     "output_type": "stream",
     "text": [
      " 25%|████████████████████▎                                                            | 50/200 [00:24<01:12,  2.06it/s]"
     ]
    },
    {
     "name": "stdout",
     "output_type": "stream",
     "text": [
      "loss at epoch  50  is  3.09252283514\n",
      "gsa  oonnnn ngI  orhllplh€qllI0pq[Ã[[lh[gxhA[\"lh[b\"hqhxAxhqxqÃxbx\"qhxAAxq\"[\"gxhhxq0lq[A\"lhxhgqIl0llxhxbIl0AIh0Ãl[hlh[gxllI€q[kqbq\"xxhx0blIl0bhI[[2h\"hgxh0lbq0b\"q[[xh\"hgxhhbIlI[[2h\"hgxhhxlhTÃl[hIl0bxpxgqI0Abqll[qbI0[A0xqI\"lb\"0kqqqllhl[lxhThxq[AlbxqllI0[Ã[xlbhgh[\"hhqxlIfxqllxbxgq[gbIhxbxp\"h0b\"qIlhhxh\"IhxAIAhhxAq0qIxpxgq[A[xb0pq[Ã[[lh[gxhpxqkl0p0hx0khIh0b\"h2hÃ[qxIlbl0bhI[[2h\"hgxIA[xb0bxqh\"[qxp[[xh\"hgxhhbIxhhxqlblIl0bhI[[2h\"hgxh0lbhhhA0qglh\"qxq0hxhhlxh\"[hqAl[llhxh0Aql[hx[hlIqqlllxAIlIxqIl[Ab[[2h\"hgxhAlIpxq[hhA[[2h\"hgxhAlI[q\"l[hTb[[xh\"hgxhAlI[hhxqbhT[[xh\"hgxhAxqq[xhAh”hI0hqxAhlbxfhhAhbAh0AjxfÃlkhÃh[xA[AIIxbh\"lh[b\"hqhxA\"q[hqlllqqlIlqbhI[[2h\"hgxhhbI[bxlI[0Abll[lÃxqxlbxb\"hÃlh[gxhAlxAIhxqIxpxgqIhgh0[qb\"\"[xbhbI[0bxp[[xh\"hgxh0[AhxqIAhT[xlxxhqI[xh0xxxhxb\"hÃlhxAIlxAIql[qIqll[qbI[[Ablxbhgh\"lkqxq2[AAlhl[A[xqAh0xhxlq[AlhI0lkAlhI0llllhxqbjlbI[q\"ghxqk[hqlIhghh\"lh[b\"hqhI[\"IA[xl0lÃfAllIqhghhxqI\"hTllxpx[AhxqI0bhxAqxxh[lq[xbxAAxbqxqIh0xqxAqqq[AxqqxqlhqhxA[[AbxllÃllxqAhxhbIhbI[b[lllqqxqqxqÃhqAq0h\"q\"lbxqglxq[AAxbhllbh\"[[qlh[gxhAhhAhbAhxqIlqgllh\"I[0Ablxbhgh0lIqh\"Ihllbh\"[[qlh[gxh0[AlxqxllÃllxfAIxblh\"[l[hIlIhq\"xxhx0bhhAhbA[bxlIhghlxqhgh[llxhxqq0xqxAqqhxA\"0Aqlw[xxq[[hhAll\"Tbxqxlbp0qb\"zbw0All[qhq[ll[lkq[\"ghxqhxqIIhlqbI0[A[l[lllA\"llÃq\"xbhgh\"xqI[qqkh[[bxAAxbqpq[ÃllIh0xq[qllhxqIlqbhIhbAhxqIlqgllh\"I[0Ab[l\"l[gbIhxqlhxhxqxplbAxb\"lxAIAllÃqlAAxb[hgl0q\"llIxhb\"f\"lklqqlxgqIhxqI[[xh\"hgxhhbI\"lllxAIqqAlb\"0gq\"l[hIl0bh[IIIxbhllÃh\"qllIh\"lh[b\"hqh\"I0bxbxA[xqq[qxh[b\"qlxqIxlqqk\"l0bxblbl0bhI[[2h\"hgxhhbIh\"lhqlllqq\"lxlhxAIlhIhxbxq0hxqAq[AlI[lqAqlh[xlI\"lhxqllh\"qllIh0xqxgq[gxIA[IhhzqhI[[qxAlhI0[A[AIllAbI0ql\"gbIl0AIqlhh\"ÃIAhqxhllhT[llxbI0lqxqllh[qAIqxlhTl0bhI[[2h\"hgxwf0ql[\"xqq\"[qxA[lxlhxlblhhqxh[gxbhxlxbq0qAIxlqxfqlIA[hÃ[xlllkq[xqxhg\"qxxhl0qbhxlhql0bhI[[2h\"hgxwf[ÃxlIhgh0qllIIxllIpAxq\"[\"gxh\"lk[gbIxqxlIh0Axq[lxq\"Ilh\"[llIxpl[[hqllIql[xlhxxhq[bx0qkIllq)qqqxlhI[qllkI0AlIql0bhI[[2h\"hgxbfllqq9[qqxhhxlkfAhT[xlxgqI[xqlIhxqIh\"0qqx[A[\"b\"xqxhqAxgqbT[bxlI[\"Iqllbh\"qllIh0xqxgq[gxhAlxAIllqqx[qqxhxhxxlIflh\"b\"xqxhqAAxhxl[gql[hAlxAIA\n"
     ]
    },
    {
     "name": "stderr",
     "output_type": "stream",
     "text": [
      " 30%|████████████████████████▎                                                        | 60/200 [00:28<01:07,  2.09it/s]"
     ]
    },
    {
     "name": "stdout",
     "output_type": "stream",
     "text": [
      "loss at epoch  60  is  3.16326021114\n",
      "gsn  hennen mgI aot h”bh\"[\"blb9bDÃIz00h)20hTbh0hD0h€qâhT©hD€DIDh00DâhT\"qh[0[D20h2DD0Ih0IhD0D0q]lq002]2bTh201hDIDDhDhDD20lI0D\"©2jh[©0hxD0h2lDIhTDh20h[D00D0bhDbh2Ih20k[D00[000Tb©€hhzD0]h2b\"T1l-AT00I\"b22hTD0TD0lID]TDbIh2D0h0IID0D0D0BDbIlD]T02hDb\"TDD0TI0ÃIâD00[2hÃ©0D0qlI0\"D00D]€€h[0hTbDID]0qDâh2b\"]ÃDD[0h20T0€000h2q0D0\"0hD0020hbDÃIz00h)20b[0DD0D0T]©2k]ThDb\"©2]Ã[D€0\"2lDâhTÃh2hk[D000\"20hIDDhhz0D0Ã©€hhzD0][00D[00D\n",
      "T0T0Db\"IDh2hk[D00D0bzh]T2Dhhhb0D0\"[2I][Dh[Ã[€0TDI0D2âhTD020DIh0II\"0llD02020D0000IÃ]2hk[T€h0\"T00Dbxh0Ã©€hh[D0h0\"T©h€0[0TIÃ©2hh[D0h0\"TT[02D]\"TÃh20hzD0h0\"hDTDD0[20\"0DDhphhâ©0âh0[]ThDI(D]0\"hDÃ[Dq0hD0\"00\"h0hz0hDDâhThT0DD0TIII02IDb\"IDh2hk[D00[00D]x0IÃD000h€0I©hD€0\"]hDIhhDD2DTh2bIh2D0D020\"T[2I\"Ãq]hDD00[00âLb©]ÃD2hk[C€0DTIh0D0T©ÃI€\n",
      "€€h€2\"DhDDD20\"]hDI0hD0T02DIh0ÃD0D\"lI€]Tj\"bI02bâ2]h02hxTDÃI00h0Tbh0D0hD2hx0h2b\"\"TDID00]T009l0\"qh]\"00T0D[2h\"DD©hD02[20]h0hz0hDDâTDII\"D0\"h0IID0lI2D20h2q00[TTlq0hDIh0D0D0hhbhD2hÃ€Th0000I20h2q0hD€hD0hThDIDqD€DIDDâhTID\n",
      "0000Tb0DhTh0j0TD]Tz][00II0\"qD2DI[D0hDbh2DbI0Dh0DhT0020hl0bh[Ã[€hhD©€h0[h0[]Th0D00D20lhTIuCbIh2I[2hD€\"qhhTh[0Ãh[Ã[€0hD©€TDTI02I\"[0Tb0D00I20\"DIÃ0000lI]h[©2hxD0Dh0[]TD]€TI[20\"20[2]ÃH02hxThD2hD0hThDb\"hT©0IDD20Ãh0]WÃkzTIDbD€000D0[€0âhTbh9hz0DT0D0II][2hx]h0D0\"D00]T0bIh000lIb\"0DÃ0I00[2bh2q0h0Dh]T2D00T2IDIhDIhfIhD€hThTIhDq0[Dj\"TD]Th0D00D20lhTIuCbIÃh[T[2hThDIhh0D\"bD0\"2T©][€D0I00lID0TI20Ãh200h[00I\"00©b\"h209qb©2hThhq0Ã©€hhzD0][00ÃhbID0IhDbhTID2Dh\"BII0Db\"[0D02bhl0bh[D0[Iâhphb0hDqâ€D0bDh00D0D0zD2hÃ1h202IIh0\"qb[00D0D0T0Db\"IDh2hk[D00[00hTIzD0TII0h0D0hD\"T0]TjT0Dh0]0hTDAI\"TDhD0h0h©€DTI0h0q]hhD€0lIhD2b\"g\"zD€0T\"00h[0âTÃÃq00\"ÃTDD00DI000âT0D0[2hTh20Ih0AhDITh€D0000âT20l2bT00D©0h2DÃ©0Ih00hTl\"bhTÃh2hk[T€âT0D0€[0D0\"D€00\"bD0hD000h0D2hz©€Ih20gbh0D\"I00D©0hC0Ih2D©ghllII\"DD20h[0D0T\"2DIh00\"blhbhTDh2hk[D0bTD]xTI[20\"D0TI\"D0lT2Dqh[0[D20\"h\"j2hT2D\"TIhDb\"qÃ0DhhThDhÃ0lID0\"D0jD0lbhqb©00D2hxTT00D\"I000Ã€]h00\"T2D0fD0D00TI0Db\"IDh20k[D0b\"0Ãq2Djhq20DD0TI\"[ÃÃ€\n",
      "€€hTf0hbIh0D0]TDDhhhTbT0I©h00DbD2D]Tzj€AIDTI€T0Ãh[q0lIhD0b©€\"D©€hTh2DIh220DjhD20h[©hlI0\"ÃT0I€h0[DD00D00D0D02D0h2bI9\n"
     ]
    },
    {
     "name": "stderr",
     "output_type": "stream",
     "text": [
      " 35%|████████████████████████████▎                                                    | 70/200 [00:33<01:01,  2.10it/s]"
     ]
    },
    {
     "name": "stdout",
     "output_type": "stream",
     "text": [
      "loss at epoch  70  is  3.34989689494\n",
      "gs   honnnn egI  ottnninhonlotnihononthon  o ittonion nonton iniein noon inon ohnd oonoit nonn onte onntt oi nnenithon to  dnd  non odt t on ioun  ion onr onnioun  ion oontr un  ion ohnth ioiiot ontn ionr ioonnienn n  tor ined nt inionien ontt rdnoi uinne inino ondlo enied d ion   nin otoi o t sn othn iuiinthnd nin in n oothononthon oidonenie nn   hn iononond otontioun  ion o u  nnnn ionn un  ionnoontnihnneen ont tun  ion onr hiit  tlioen oont nn onon onironinott innnln  moen io rnuneotun  ion  ortieonnhoun  ion  ootuioni n un  ion  ootunhnnintun  ion  oni innton unonntot n iioontho nn il inond n non  ilhonioninohoinnloeo n ont tun  ion oontnsn iune itetinineen ioilhon  ootothnd  in ioononnni on oo t nin un oion onn hnn oinnnen odtontud  ontionthn il othenn nlonnieune n oon iotonton othni nnn hn oni  tr ooooin  ntiotodt ut o nininnonnn  ono inhonions nn undtntotutooion hnd ionoen nn hnn nn nt n indonnnnoot hnd  n idt onn n o oioo nounr n tinnn ohnonthnonsntooe n ototoo on ioor ed enindu ooot ionont on  toh inthnd id tohotund l  on nden iooot iononthon oon t ontlineni u oltinleinoin on odt ot ononsdoiontr ooninnt on  n in iohn inonlinn nnointitontntne iedioninnoitrhonnnt tn  onodthnn une ienn ntetooinntoone in hnd nnnt nnoe u oothontot o ieno hnd onsnthnthnd id tohotnnd utooin thn ntnintn otodiondoietonni u ounnt ooto ein oin l nin iohnd un oionnoonoieinn ihn n inn ioeo ons n  on oot ionto  inionioninnto tntu  nnn ioniot otnton on onot on itun  ion oonthoionlooo iedahn in o ninini   on t nt e rnn oiiohndinhonlotom tn ionno uen onso nontr too nnnt o tndion  t otnt son oonnnot onton  nltn ne nn ihnt oontn un  ion  oeninnnd inontorna ne nhin ionnohnt t ndo nttn hetoiion tooo nn  ooonn ot othnt oontn un  ion  onin ion entotonrouiod inon tilton t  noihn enunn iot into niionintotn inein  dt nnnoilr nn  nlho ntoeonr oions tun  ion  ored nnhn  t lu oinnnen ioueoi hnn  inn nt  nioniion n  tonsn inn o t sonto oo td ionn tototned nnhn ononnoe n oieniein t otoinn rtor oto\n"
     ]
    },
    {
     "name": "stderr",
     "output_type": "stream",
     "text": [
      " 40%|████████████████████████████████▍                                                | 80/200 [00:37<00:56,  2.11it/s]"
     ]
    },
    {
     "name": "stdout",
     "output_type": "stream",
     "text": [
      "loss at epoch  80  is  3.03795904805\n",
      "gs e ho nnn ngIno ahheenionnean hononnion nnsiniosion n n n niniennsn n  oson  hnn ennnnnnni    nie n ton   onneninion nna  neosnnn  n tnr osstnn oion  nn onshtnn oion  nstnrnn sion  hnnitsnrs n  nin itnn nnnnn  nnnn   nennnen innnnn nn n in nrennnn ninne i innionnln enre  d io  osnnn  onshn nssn nnin tnnhnohnn  nn into  nehononnion  eenneno sn is hn  o ninn  nnnosstnn oion   n tnnnn ionn nn oion  nstnihnne ne osstnn oion  nn nis   tnionn nn osi  onnnnonnnn snnnnennn nntsnnn  tntennnno nn sion  nntoeounhtnn oion  nntnhonnhn nn sion  nntnni  s tnn oion  nninnnnoon nninn onsn nirosthn nn nnnnion  nnon  siniosion n hn nnnnnn nt osstnn oion  nstn n tnnenennninine   honnion nnn   inn  in ito onnn ion  nstsnnn nn oion  nuninn  nnn en  n nninn   nsionnin tn   innn nnnnn  nnenn on shn  n nunnninn nne  n snehnonstnnntns one nnn  nns eno infnn n tn oshniosion  nn nnennni onnn n ohnn onnnne nn inn   ine n innnnnne n  hnn  n in itnnnn n nnon nnnnennnninn   hnnstostn nnenn n n nionnonshtnn e  e innn  onnssonnnnion nnnirosthnn f  nnhn nnenn on oneen it  nssonnnnion  nunn onnnien   n  nninnnnnnnsnon  nntoirostn n tn on on snnn on on in hthn anone nn  unhstfnnnnnnne rnnoonis  enehonnnnnnn so on hnn unens nunnnnnnn neninnenn  hnn  nnnsnnnn n  nehonnnn n inn ainn  ns tnsthnn f  nnhn nnennnnnn tohn noninin nro  on  tnnnnn  n  nn n sonnnensn on ndnin ithnn nn oion  nstsnr n  in ntnn  inennnossnoon  onnssonneasiniosion nntnninenn  nn iositn o nnnn on nnnne nsstnn oion  nsthnrnonnnn hn nhn tns snnninn oonn nrnnnn enn  toninninionnea n nn ion neoenion  snnnans nntnnnnnos nneo eon   nnsson nnnnoens nnn n nnnn ne nn tinnit nsstnn oion s en nnn  tnnna ennhne niin hon  hnn ohnn  nnnn hnnnnhon nnnn nn    nnn  n   innit nsstnn oion s n n tn oe nnnnne nno  oson  nnnn  o    tin e n n itnoinnnnneinnnnnnnn enehn  nn nnen ne nn hnnitr nnnnne nnens tnn oion s ne  nnhn onnen onnn en itnn n hnn sinnhnn snsininnnnn    n n tnn onnssonnea n nn ion nnn   nn  nnhn onndnen nsnsininnnn  n  n  ne nn o o\n"
     ]
    },
    {
     "name": "stderr",
     "output_type": "stream",
     "text": [
      " 45%|████████████████████████████████████▍                                            | 90/200 [00:42<00:52,  2.11it/s]"
     ]
    },
    {
     "name": "stdout",
     "output_type": "stream",
     "text": [
      "loss at epoch  90  is  3.4276995495\n",
      "gsem  o nnn rgI ool enmn ottlnoehnnien on  o ot n hot a ntn ooh nst doe  n nn oh nnnnnonntnn     nnnn  on  itnnenhn on r n  nnn tnn t  ond n   nn t nn onntno honn thon on t onn thnn ohnnntnnnstn o rn  onnt t nn fnnto   nn nnn  ennnnnyn an inotonnt n nnnnnso hnn nnntninntnn n innoo nnntnan hoinssn on n nnn nn n    ntinaontonhonn n on oennnnhtesn ns  n on nnnentno n  rnn t nn o o onnoet nnn nn tion on t n n  snten  rnn t nn onntni o  onhonnoend  tntnnntoennno  ao nnnnn in tnenn nn onnnneann thnn tontonnnn tnn  inn  ontnhnen nsnn tion  ontnnhd  nann t on  oe  onnon onnntnnon n nhon a n ontnnnnnn   noond  innnsnntsdohnnntlnnn no n   nn t nn on on  osnnntonnnnntnn   nnnn on non oihn   nntitn onn  hnn on t nnnonn tion onnthnn onnnnnntt  nn nn  o n nnl   it   innntnnlnnsinnntn one nndt  ontoehtntne o,n o ohton  n ean annnynt tonns  nn nnnont  nndtshlnnsnnt onntonntnnnoon ean  h n annnnn nntinn onnnno d nnnnnnoon th n tf  dnhtnnt  n oonnte nnnt nnnnnn  h nstn tn nnnnn  tf oonto o htnnto tnn nan  o nssnnntlnon nonhtn ohnn nntnehntnnntt oononnent ooon nnnntnnin onntt o rtoeenn o ortinnnnnnnstnntt  on tn an n sn on oi  nnt t dto  d ht noonn  snn  nn  onnnnnnn n tnnonnns  nnn o nnnn nt o   tien nnnn tnntonntlntmnnonnnto ohnn nnnn ennn n ooohnntestn  nn nhen un   n t en un nehntnnntnnnnnd  intt nnnnn nooe onnosinennonnnonnnn ooninnnsn nn n htn ioh n nn t on oi tonnnnon nttonn  hnnnten  neonno  n  ntlen nnnnsnntsinnonhn nnntnntinntmn otetnn nn nnonoen  rnn t nn on o nnntlnnnshnnnn  it a nnn nnnoonn tean nennn oion nnon ottlntn r   on o onnhn    ncn n tnntonnnne annnn ton oien nnnonntnn n tnnlntonnnnonn nn ihnnno n   nn t nn  oennnnnhmnntn  nnnnnnsnnin inn ohen oh nn nnn ohnnnn nn i nnsnn  o nnn tn oihenno n   nn t nn  on n an  nnnenonn nt ntn on onnnnd  n  on n n nen iont nnesdonnnntnen nennnn   ooon n nntnnohnnnoe tnnnnn nt n  onn t nn  trnhonnh  oennnnonnnnnn ionnnnihnn sonn  to ntnn nnton   tn n aonat n nntnentn re  on non oitnnonnh  onn nln n nnnn nntto o on  nntor oie\n"
     ]
    },
    {
     "name": "stderr",
     "output_type": "stream",
     "text": [
      " 50%|████████████████████████████████████████                                        | 100/200 [00:47<00:47,  2.11it/s]"
     ]
    },
    {
     "name": "stdout",
     "output_type": "stream",
     "text": [
      "loss at epoch  100  is  3.2602330278\n",
      "gseo ho nnn ogI narr ntnhotn  n hnnnelhon  a nnho ho  a  to omdtnnt o e tn on tn  onna oronn et ntn n t tn  tn nnhannn tl t nnnntndto ton  n  den ohnn ane oo h nn ohnn an tt nn ohnn ahelh mlnson   ndti on alend don n  aon mnn tennnlnnn on hn naenln nnnodn n innhnnntntn fn  dtio oonnedtntnshe n  n nnhe  nnh rh    ndtie r ooehonnenhon eennn  m  n n  hn mn nfn   to n  den thnn   o nn ndthonntnn thnn an tenhe n ti n  den ohnn ane nh d  tlhonntnn  nn tnnnto nnln  t  nnnnn ln on  d  nte nln nnnnthon  aa ennnnhaen ohnn naa nhn nhe en ohnn naa nnht  nton thnn na t ena n  enn em t  tnh n dhn e amnnnnne onnonn nhlho hot a hn n ll n n  n  aun ohnn an tn d  nnn arntmdtdn   hnnlion tan e h  tnnnti nn onn inn tn t n dtnn ohnn ann h  tonnndne o tn tnn n   hnnlid  nn  hn n nnnnn  nnn ln o shlnt tnn elhtn on aoo   ahaoa to e a ton  lt t nn  nennhnnon  a n  nhlio hot aon o nenlm on e n tne  mneeyn nn n  tonheto  innnnnnn on n  too hd iann  oo nmn  t unn delmnynt oen tn in nlnlntetn nmn  oo h ne n aenhe nnooln  nnn lnnn  anhan th  aed tnhn nnn l  o to ndti oons onntlnon eon n  nnlrn nt nntnohnlnnlnt tnn t t ohao de d  nn nn o snntnt ttn h ln hn mne lnnd  nnh   tne o dn en mnnn  ootnhn n nn n  o o ahe  nnnn aou onnlle nntonnn n  h   nnnn o nn e  r hnmnn oo hnn ahn t n  dn ih     ttnnn nn  nnn n oann aonnnt  noee nn e nrynnt nnten tn nna nn n onnlo md i h   nn ohnn an tone de nn n mn  han  lo  n on  oon  n l   hlio hot ann nh ann nnn io honn  nnnn olnnnnno n  den thnn an thn n lllntinntid  n  snndn n t nn nannonaeon o arne mnhotl  on ndthon e aenhn  a n  an  on n nnn  tndmnnoonn  nn  on enennnn aona f  tnntlntnn  h ti  ns ten ohnn  ae annn tmni  onnti n thhdtion oh ln ne n nrn tintenhnn t  nao  n onnnt nne n lheln  aon ohnn  an de nn nnt  nnn e   tn on tonnnno      hnte fnnti tohnln ntnnnntn   nnnnnn o t nn n tntnnti th n lnnnnn e onsnden ohnn  ann  nnh toednn onnndnn h nnnm n  a mnnh ao n mdtnntoo   te d  nn oons oono to ndthon  an e nn tonh toendeln t nendtnntn  o  n etntor   o\n"
     ]
    },
    {
     "name": "stderr",
     "output_type": "stream",
     "text": [
      " 55%|████████████████████████████████████████████                                    | 110/200 [00:51<00:42,  2.12it/s]"
     ]
    },
    {
     "name": "stdout",
     "output_type": "stream",
     "text": [
      "loss at epoch  110  is  3.06563429168\n",
      "gs o ho nnn mgI  rr hxp0WzEEHAbâ\"z\"zEpW\n",
      "€€AH,h”HH\"E\n",
      "€âHAqbbWbpxE0zEâ€AHqb.b[WW.hE0(HâA.ppWxz\"0HHHEâH\n",
      "\"(HH”\n",
      "AbWp\"[hÃxz€E€HHH.”WbhWz01AqA.b.0Wb0W(WWbh\n",
      "€€DbHqbb]hq)[xfh\n",
      "€HH.bWlW[zWfh\n",
      "€€HHHqhWpl[hWAWqx0\"HbHb[qEEj€x\"qb[HfH.Hb[.bWWWqqEW\n",
      "EâH\"âHbq\"bqpxWxp0AW”IE\"0.z\"E””\"\n",
      "â””HHHq\"WxâxEE\n",
      "EDA,Wb.W\"Wfbh\"qph0WAzE\"\"\n",
      "HCH\"xqW\"0E.HHHb\n",
      "q\"WIb€W\n",
      "\"zEEE\n",
      "€HA1Hbbpxpq]xxâ\"HHbHbz\"\n",
      "E€HHHbH-bb0W(€Wbh\n",
      "€€\n",
      "AHHwWbW\"Ih\n",
      "EHH1HHbh[WW.\n",
      "\"Hqk1Hq9.pW0Wb0W(WWbh\n",
      "€€DbHq\"WâWE.fbE\n",
      "E.HH\n",
      "AWbpxbz0zEE\n",
      "bbÃ[\"âWqEEW)E€€BHA1bHH00qp.WxâpW0q)z0fh\n",
      "€€HHbq00W[zEI””€fHHbqbqp.[E\n",
      "€””âH””HbhqWWqqp.)\n",
      "EHAB,H”HHbhzWEEHHHb.\"qqzEICH\n",
      "0HqbphWqzEI\n",
      "€AHbqbxWpxxz\"zE00â\n",
      "\n",
      "â€Hâh€H\n",
      "\"€”,,Hwhbâ[Wl00\"qp.0Wb]E€HWbhhWWE\n",
      "\"HHH”0wbbâq[x[j\"xWx0.0\"E\n",
      "”HHHbqbblW0qhx0I.(]HHHqW.q\"0\"E€€HWH,.bWpxq)z0fh\n",
      "€,Ab”AhWxq0z0”\"€Hbb.qbxEâ\"0€Hhâhz\"phx0.E”\n",
      "qhW[0IqEj€x\"W\n",
      "b[qpxI€\"âE€HbhHb[q0]hp\"A\"q0EbWqbxÃhqqpjWbq0q0jWWp\"xjW0EHCHâWWWzEE\"b€zA00.q\".âhphz\"E\n",
      "A,HbHqWâWlxl\"q\"000qzEIEH.H(q0W0\"qf[HEC.HHq\"WqbqEH”Hâ.WA\"q\n",
      "”I\"C.Hbbq\"xWhIbj..(fqbphWâWq[W0q0E€b\"H.IqqE\n",
      "\"H\n",
      "âH”â€”j0âqxfbHfI\n",
      "CHbbbhWfWq00fE0EâH\n",
      "HbbjEh]z\"qE€H\n",
      "€HHHhbWz]AW00IH.(bzEâI”b[.BWI€\"CC[00fHHC-1Whh0qE€H\n",
      "WHwbbWpWqxqEI\"xx\n",
      ".I€.bWh\"9\"zpzqbWq\"€Ahbq\"hqz\"H\"â”dw”HqbWqzE]\n",
      "HHHb.bAbWE.EHHHbqpWWxE.bq€.0H\"\"H\n",
      "H€\".bI\"€H)âxpz\"I\"€H\n",
      "B)\"\n",
      "E€HHHHHAb[WfxIEC.HHbHâjWb[.IBW000qIHEE\"E€HhW.h\"\"qEIA0\"[xEEH\n",
      "HWb[hh\"p0AAWqE\"fHEEHqwqbj0Wz]AW00I).Wb0WâI€€[E€€”””€fHHbqlWx\n",
      "\"€]HBH”qbzWW0.EEH”0Iq\n",
      "€Hfâ0lâf\n",
      "EHAW[]EI(€”ÃI.\n",
      "0bbWhx0I””HfHHbqbz\"Abb\"Ix0qhW.0.bWqEE€HHH)bj0\"\"\"\"WqAqlj0\"AjjAbhlhz\"E\n",
      "A,HHHbWhxI)â\"I”.€b\n",
      "\"€HHHb.Wpâ\"jzE”â”â”.0Wb0W(WWbh\n",
      "€€HHBHHHbâWl00\"qh00EE0\n",
      "HbâHâ€b0EC\n",
      "€fHb[qpxpxWâI[bz00.bjhxxpEhzAEHH(bqb\"WW\n",
      "E€\n",
      "D1Hqh[WâWbWIxIb\"H(.H([âbW[AWxxÃzEIwb”\n",
      "A\"xj0z\".I\n",
      "EC€HHâWWp0\"b.E0â.IbâAz00.hE€EHHbb0bbWqfh\"€HbHbqâ\"kÃ0I€”AHHgbxphx0.EE\"\"ADkbHWWWpWAhE0€HHbâ\"qW000zE\n",
      "E€”HHHHbqWW.AzE\"(wbW\"qhxp\"I)fjEAN”€0”ln  on n  net enn nnnl t  tn on ionnnnttenn  hete  n ohonohnnn nennnnien  nnnnn to o o nnannon  hnnhao nnnnnn   le  nennohon  onndteeide o nn  nnnnnnthteien in o onnh  i nnmnhnnioon  on n  mntter  nonn on m  hon  onn  ne tenhde nno on n nmeteeninoeo onn nn are  d\n"
     ]
    },
    {
     "name": "stderr",
     "output_type": "stream",
     "text": [
      " 60%|████████████████████████████████████████████████                                | 120/200 [00:56<00:37,  2.12it/s]"
     ]
    },
    {
     "name": "stdout",
     "output_type": "stream",
     "text": [
      "loss at epoch  120  is  3.13065534282\n",
      "gsio ho nne ngI mma sckx\"\n",
      "AllIfphcp[1lc[fAIIwh]c\n",
      ",h\n",
      "A.HAC”” ne inno  an on nn ah  men nono n  ao e  n oie n onn nh inn net  n n on  t  ne en  nnn ohnn aneaon  aun ohnn an ne nn ohnn ah eiaoee nn a n  honeaeenn  nnu n  aneaone one n oe  nn hoie   en  nnn nan  nnine en   ee    hn oi nn anon   in  ntneide nn  ah  a n  hoao aneinnn einn aonoee mi   n nhoton nnn  an en  nnn ohnn nao annn ohne ann ohnn an n ni  nan en  nnn ohnn aneani n  oeine ann m n onnnoannnen t inn nnn nn oeny n n e ee ennn ohnn aan   nenionn ohnn aan nhnyninnnn ohnn aan uni    nun ohnn aa ion  nn mn no aon danion nhoto annnnnn  nn en a  ein  no  ahnenoenyn n en  nnn ohnn an nn n nnnntoe endide   inneinn ain n i  a n  hon mnn  inn an nenn ann ohnn ann h  annnndn  t ao in   a  inneide n n ine anne d nnnean an  in o anu nniente  aon o  iaan noee n noeeeeo   ne ne n  nnee  n n a  nin  no non oe eeenioneenn ah  ann ne onn h  an i to  hn nnn n o ah  aon hdniane  on nnne  annea neoee e h n nn nn nneen  on nnneaon  aneae oe  nao aoee  nenoeinn aanion nhn ao  nein nnetn an omee ohaoee  nenoeinn ann e a neoee oao anohnn nen  on  t  nnion nn n nn an nn  n e o aon hdniahotoneeeto   uni nonndnne nae  mnnn naoeiinanee en  n o ah  annen nnu ee enenn eonn an ah  ann   nen  o aneinnen on hnneth  aen  nn nhn ao  nein nnetnnnyn oihnteo n e on e  n  n nee dnao ann   onen en n ne  e m  hahn onn ohnn an non e e hoie on  ie n en  neen aoee  noen    in  no nnn nhnann nn  hn  annn  en  ne nnne en  nnn ohnn an nhnenoenyn i  eide n nenn   n oimn n onon nne nionhedoeineen on n  hnn nto n ne ntnh an nen enne e ne mn oin n ee  nn ono mee noee oi ee an en e h eiaeo  nnn ohnn  on oene onni aon eide niidehnn ah e ah  n     ah enninn neen o   aone  an nni eiaeo  nnn ohnn  on denn an en eneeenn on nn annnn oi   n hoin ue ohano nne enen noen en  nn  t nto  n n tn ah eiae enenneeenen  nnn ohnn  on  onnhd an nn nnnndn  honnnnnh  a onni  n nnn  nnoan   nn denun oee  noen on n  hnn ate n e  onnhd anne en n nnn innoe  m nn      n n e\n"
     ]
    },
    {
     "name": "stderr",
     "output_type": "stream",
     "text": [
      " 65%|████████████████████████████████████████████████████                            | 130/200 [01:01<00:32,  2.12it/s]"
     ]
    },
    {
     "name": "stdout",
     "output_type": "stream",
     "text": [
      "loss at epoch  130  is  3.17784588407\n",
      "gs   te nn  ngIfmeliogfyi ion oyhenn ninn  t hoin hn   ieto nmdtnn t toehn nn tineonn tneoen ntnden n ttn n ion nininn nnn nnnn nnd tntte nn  nun tinn ton in ioun tinn tn nnoun thnn tinniaony  n oeed ioon nnnndtnondo eonnmenedanneenendton to nnndeli  n dn n tnninndnn ndendtd hn tt nndtneo inin  nenlinatnnhetheehelenin o to innn ninn tnnn nnn  dan nho nn nnn ntomen  nun thnn n n to ndhonndtun thnn tn neninen omnn  nun tinn ton ni n ealinndton t tdtnnn toonln t telnnnn nn honnd  omndennn un tinn  tn ennnnioun tinn  on nhnenin un thnn  tn uni nt nun ttnn  teh on an te nieian dtnion  ho eeaendeonnnannnn t inin in  tthn n ln n n en  nun thnn tn nn detunn elnendhenoethnnehen  tn n ineteed ion ttndtinn tn n nndtun ttnn tonnhedtonnndnd tntndheda tdthnnnheein eehnndtnenndtnunn l tn  in tntoenneiln eeeoeo tenhton nondtl  enymennttno nndn tnnen natn t inin in tnen nnneeonionnnen ehe tnene etonnhedtteheoae heneenen n thnettn iethooeneto nnn  tiunn ennnendtthnn nn nn nnnnn eto nnn tio ioonmeetndho e aeen  nnn ninn  tnian nheeaye lnin unn l tn tonndthaien  nnn ninn tonno tetnnendn n tn hnennn n nnd tnttnian nn datn tn tn  nne tntoo iethohoinndenond nuni nernnaoedeoendnnnn tinenhn  nnnnn  n tntieetnnnn no n nnend  nennnnnn tinetanne nntttn toehnneeiun tnne hndtnn  nn  heetye lnin unn unn n ttioennendedtlnne nndntnnnndn n tun n hnne nn n nn l nnn hoheetun thnn tn nnneydn hnininn eonnn nn  nnnn thnn  n lnn ioin hn  n  enhntunde d tn iao n tendtne n tn nn  nun ttnn tn nhn n lnnn indnidntn  tnndhen toonnlmenieinnn ntnnieenlin nn oo nn hnn n onnin tn nhe o  en enennet unnn ttn n ne  nnion  nee nonndeieendtnntedatieoionn n un thnn tnndennndtnn e andnien niie hnn tinn thnen eendtinedninn nnnn eda ttnnn tn ntieoionn n un ttnn  nn datn tndnn nnnnn odhn nn tnenn tt nnatinendeldthooninnn enen n nnnetednnd tnn tndn nnt dtheeiondelmennnntnn  nun tinn tnnndtonie tndn nnnnndnd hounnniieet nnnheuot nmdtnn to ntnn detnn tnl  n nnnio nn hnn  tn ntondtonie tnn  en n nnndtnn tn o nn nnn on n n\n"
     ]
    },
    {
     "name": "stderr",
     "output_type": "stream",
     "text": [
      " 70%|████████████████████████████████████████████████████████                        | 140/200 [01:05<00:28,  2.13it/s]"
     ]
    },
    {
     "name": "stdout",
     "output_type": "stream",
     "text": [
      "loss at epoch  140  is  3.0286348138\n",
      "gs o ho  nn ngIfeeni eenin n tnehennnehnn   tinhn hn   oe   ondhnn t aa  e nn thenn   onn  n  tn  n n ntn  ton  nhnhnn   t d nn rnn he  e nn tfn   hnn tnn hn hau  hhnn  n in e   hnn thenh ne itn iee  honn  n nn  ou o eann  nneannnneen  fn hn n neen  nn  n n hnninn n tneene n ho    nne n n hn n  n nnien nnhefi e eee ho n tn hnnnnninn innn neo  ree ohn nn onnn tn nn  in   inn o n tn  etinn tu   hnn tn   ninen n nn  onn hhnn  on oh fn   hnne nn i nninunitnnnnn   oee nn tn  hn     n neennn un hhnn  an  nnunh un  inn   n  hn nhn u   hnn   n enh e   rn hhnn   ehno   n in n  tnn e nh n  hn ne nn nnnn nnnnn t hnho hn   ohn nhn  n ntnn   nn hhnn  n  n no un  nnenn han   honnhnn   n dthee eee h n  nn  hon to   nne un hhnn  nu hoe nneuen  he n heee tr honehae n   hnnn nn nn tnn  n in  in he nn  einn n  ton heeh  n  nee ntfon nesd ann fnen inn  heean  thnhn ho  tn  n nn nn nnnn n  hoe ne e  tn  heeanehefed hnn nn n n then  n haeh nu enn nns   oun  eonn n   hen  nttn  n nn eon nnn  nn hann nenn ho n  ennt nnnieinn   ni n  hoe    nnin unn n tn hnnneii n n  nnnieinn  ou n tenen neo n  nnhnnenente n  hn  nhon  ntea n  n tn  nnn he n  haeh hn n  en ne iunh tnnn tne n nnenn n   nnehni nnnn  in heah e nnnn tnu nnnn n nnnn  n n thon     tnnnn n tn honnntnn hnn  hee nn ien  hoe ee nnhn un  nnn n nthn r ienn  n ae n  e nn  en n tun n hnnn nn n nn nn ee hao   eu hhnn  n  nn nnoahn ntnn  hnn  nn  nnnn tnnn  nin tihnho hn  nnn nioaun  un ho h n d nn   nn n nn nn  onn hhnn  n  hn n nnnnthnenheean o nndinn   nn e nnh  nnn   nnheen heen  hn  d hon e nnnhn  tinh  n  nn nn nnn tnenn n n  tnn  nn nni n nifnn  e enee nnn  othenh nn tfn   hnn  fnee nnntn hoan  eten nhha hon  hon ihoe  heseahne ehon nnnntnee tnnne in  thenh en tfn   hnn  fn ee n  neen nn ne n  n nn inn n nt dee hn neuneohanhh nn en nnnie  eo  nnd hee n   tnn   thenh nee n nnn  nn tfn   hnn  fnne ouhe de e  dn n ne haun e hoea nnnhe  e nnnhnn  n i     ean  hnnttn enthn  d hon   n d nn  nuhe den  n tn nnn tnn  t n nn inn  n daa\n"
     ]
    },
    {
     "name": "stderr",
     "output_type": "stream",
     "text": [
      " 75%|████████████████████████████████████████████████████████████                    | 150/200 [01:10<00:23,  2.13it/s]"
     ]
    },
    {
     "name": "stdout",
     "output_type": "stream",
     "text": [
      "loss at epoch  150  is  2.87654020637\n",
      "gs o he en  egI nmeieennhn n tn innnnnhnn  a hnhn in   aa n nndhnnn  and n nn ahnann  ann nn aan tn n   e a nnn  ininn n   n nn inn hn an nn efeeeehnntmeemiothaun  hnn fn anaun  hnn fhanhtnn  fn aand hann nn  n anean etnn nnndtennnn nd fn hnanandt t  nndn n hnnhnnd  ann nd d hn  a nnd e n in n  n nniaaannirahaaadnd he n an hnnnnnhnn annnen et nd  fhndnn nnnndan nn efeeeehnn e n anenn hnndtu  ehnn tn aanhnnn nann ifun  hnn fnnani a d  hnnd nn  onn nnn aonnnn o annnnne n ahnynd anann nnntu   hnn  andnnnenhau  ehnn  and hn nhe u   hnn aanduni n  aee  hnn aadhne   n annnen nnsdtnhan ahnand nnnnnnndeennn f hnhn hn   ah nn n n anann sfeee hnn tn ae diaunnannnnndhen d hnnninn  an eahnnaded h n anen hnn tn ained u  ehnn tnnihna onnnnnn hntnninna aa hnnnhdaan e hnndten  d annn n an ehn hdtnnaonhnnannn nn en h  n fnyn n ann ne a  nn fnnn hnnnundaan a hnhn hn  an  nennnnn nn nan ahnaannne  annahnaannhnand hun e  etn ahna nn hn hannad n nnnn aaunn d nn nd ahnn an ae  n n td n nnnntnn hann nn nnhe n anyn inun ehnn  anhan ahhnand e h aunn n an hnnnd hah n inun thnn an mn en nn nee n an iennnn a nnd hn  nhtn au d tn an an ennn hntnn hn hahnanned  nd eunh annnntnndn nnden n  annnhn unnn  a n hethna nnnn fneannnnn tnnnnnentn ahaaann   on   n an hnnn ahn hnnythhaann ifneahedtnd e i aunn unnyn   hnanennnedan nn nn  ten une n aun e hnn tnn n nn e dnd hahnaaun  hnn fn ann  dethnanann dhon  nn innnn anyn in e t hnhn in  nn nnhaaunde n hn ian aann   nn e  ntnn ifun  hnn fn ahnen n n fhnnehdaansa nndhon  ann nann n nnn  tnnhoannin n tnn ed hnn eannnin  oonhnansannten nnn fnnen   e a nn inn en nnyn onn  etnnndtnn u tahnnhann ifun  hnn  ande nndtn nna nnehdnanhhd hnn ahnn ahad  nnndthnnnnhnn e nn ona ahnnd on oahnnhann inun ehnn  au dtan anne tnnn ntad n nn ann n    naaahn nnun  han hnn tdn nnnne  d  dnnd hne nnd annn n hnnhanne  nnn nann ifun  hnn  annntnnhd annn aonnnnnn haunnn hona nnnheaaennndinnnan d fn  ian ahnn in n ahn ed hnn aan eanndtnnhd ann an cn nn dhnn  a n nn een an e o\n"
     ]
    },
    {
     "name": "stderr",
     "output_type": "stream",
     "text": [
      " 80%|████████████████████████████████████████████████████████████████                | 160/200 [01:14<00:18,  2.14it/s]"
     ]
    },
    {
     "name": "stdout",
     "output_type": "stream",
     "text": [
      "loss at epoch  160  is  3.1142993865\n",
      "gsio h  en  ngn mnniednnhn t  n innn nhnn  i hntn hn  iad n nn hnn ii rd n en th dnnn  nn  n dtn  n n  tn  trnneehninn nn  dunnsind  d tn nnsian  iinn tnntrnsh un  inn tn  n u  iinn th oi nn i n in d h nntnn en  n tn etn tnnndtnnnnnendt n hnan ndt   unennan hunhnnd n n  nd n hn  t nndtn n hntn in nnin tnnhrih dtned hntn tn innn nhnn tnnnendet nd   hntnn nnn dtn nnsian  tinn etn tn nn hnedtun  inn tn  dnhndntn nnsiau  tinn tnntnh i d tinn tnn t    nen irnnnn    onnnnesnn  t  n tn n  nn tun  inn  in nnnunh un  inn  in ehn nh iun  inn  in unh dsi u  tinn  inh e   n tn n otrn n nh n  hntndtne nnn d  nnn i hnin hn ie h ennn  e n nnsi un  inn tn  u n tunntnnnnnehnntn hnnninn  in  th dtne  h n tn   hnn tn  snnttun  inn tn th dtrnennn   dtnnhnd  in hnntin tn  thnentnnnnn  unntn tn ihn  dtnnirninntn dtrn  deh  ns nn  n  nn nn   tnn  ndn hnnnund tn t hninshn t nn nnnninntnn   n th  tnnnt ntnnth dtr h  rd h n e  etn th  trn hd h n id n nnn ii unntd nne n th ns n au en  n d n nnn irnsh netnd n hntn t  n innn nhnn iinhtn  h dtnn nnhn unntn tn  nnnd h   n innn nhnn in in tn nn  n tn tn hennnn  s nn  d tnh n  u n tn tn  n ienn  dt n hd h hninnnd  nn dunhiinneninndntnn en nie nnnhn  nnnn  sn tdth dtnnnn  n innnny aonnn enan th dt   e e  etn tn inntn nn hnnn h dtnn ian ih dtnd nnhn unntunnnn  thntn ond dtn rd nn  tnnnnn tn tun n  nnn nnsnann n dnd h h dtun  inn tn  nne drthnan nn  hnn  nnsinnnn tnyn in o   hntn hn  enneni tund en hn h r  tnn n nn e  ndnn ian  iinn tn  h en r nn hndtin tn  snnth n  tnntn en   nn   tnnhndnnhn t  nn ed hnn etnnnhn    en tn  netn  nn   ed n  tn  tnn inntnnnrnnn  nnydetrnedtnn un th oi nnsiau  tinn i nde nn tn notrndtinntn hd hnn th o th    nnedthnnnnhon oy n nnd i nn   n  th oi nnsiau  tinn i u n tn tn tn nnnnn rd n nn tnn n  t dd thnandunn h n henn nn nnn n  d enenn  d tn d  nn unth ni n tn ennnn nnsian  iinn i nn tn hn  e n  rnennn  h unnnth dtsnnnho t  n dhnn in ds e n tn tiyn in o  nn ed hnn  in  tnn tnnhd  nn e n n nnedhnn  t n nn  nn  n  tr\n"
     ]
    },
    {
     "name": "stderr",
     "output_type": "stream",
     "text": [
      " 85%|████████████████████████████████████████████████████████████████████            | 170/200 [01:19<00:14,  2.14it/s]"
     ]
    },
    {
     "name": "stdout",
     "output_type": "stream",
     "text": [
      "loss at epoch  170  is  3.21756352724\n",
      "gsem h  en tngI m thadnei  nn nehon  thon  aehnineh  n  d n on hnn e ann eeen  hadn n  nntne   ndnn e  an n  nn  inien tn n enns  nn   an nneeaue  ien tn   n h ne  hon aee n ne  hon  h th nneean  nn  h  n nnnnd  n  o   nnannen nneennnnn n hn n e rndnene o o h ehen    en nne  io  asnn  n neh  neen onh n nnin tn  nn  in n tnehone th n  ennn nn endne hntn  enee an n eeaue  ien e n  nen  ion one  ion tes dnin n n nnne u   hon an  oi  n  lh n  ne    d ouo arnnn  s antrnneen   n nnn ninnn nn ne  h n tan nnnenh ne  hon   naei nnh  u   ien  an ueh oee ue  hon ta ton i e tni  nanusd ni ns hn nd nnnnn  ronnne anininsi  n ah ee n n en nn e un  ien tes eeno nn  enenn h n nni nti n tan n hn  nn  i n  n  sh n aen  nn tue  hen tn  h d ne  n n    n t  dn nei ntid tn o h  n nnn    un  n  o  in    n  rn nninn  nn t  hidneen n nsenn nn   tnnn n o h nmtt o o  shnhosh  s u ennnnntntnnyn n th dtn ron en  h dtn irda  i nnn  nin  hnd nn h nidnet  o one    en  r nn  n  h e  ee  nnnnne n n one annsh netndn nin n tn ninenn ni n tae  es h d en eni  un  n te  nnnd haneneenuo u  n     n tn nn  nn n tn ieneen  n  nn   ae  ns endo n  n  e e nn  o nn i n  hn n n ndn   ueh   lentnn   ennn  ne annni    nnne ee    h dann ne netnnnn niennn n  n thad  n enn n  n t  h nt   n inne h d oneeaes hnd en eni ann  unenn odhn n nenn  n nnen nn nneen  n  ue t  eln en e n  lndn  idhnttne  ion tes nnee rdh  n n  oh nn nnnennne an nine t   hnh si  t  nenhran nn   i si n rdnne sen  eet nn eau   ien tes h n  nnne h nn o  neeenn h    an  n nn  n ne   nnhn nni  tl on o nien    neto e en n nsenn nnnnnnt ndnn  an n nnnnnninn oonnn nn neennnnan ne o hantolnne ue  hon e n  een  n  n n nn dn nhioninn thn  ahn n nnn th nnehon n ne u    n m  on n hnniannnn ue  hon e neno o  e s  nnennann eeen  nnee  andnn hn  nunn i n hlno dn e n nn oned e  t n nn ean nen hn ian nonen  nalneeaue  ien s n nan i n n  n nn e  n i uenntind ennnin aeenn h   an on  e  tu    ne n t inn t  inn tan rdne tnuidnin  r   nsenn i n tann  s  ln dn n n\n"
     ]
    },
    {
     "name": "stderr",
     "output_type": "stream",
     "text": [
      " 90%|████████████████████████████████████████████████████████████████████████        | 180/200 [01:24<00:09,  2.14it/s]"
     ]
    },
    {
     "name": "stdout",
     "output_type": "stream",
     "text": [
      "loss at epoch  180  is  3.01800245691\n",
      "gsim he ene ngIf  nhed nio nn ni  neenion  atinin ie eedd n nn ie  n oo  osnn  ho ne  aontr  n n nn     n  atn nehnion nntn  nn  o n   aninn   un tien  nu  n h un  hen  osenden  hen  honi nne en   n  ione nnne   nu n   ne nned ne nnun   n in nan nn n nnon n ienion n en en    io r tn   n n hn n sn nni  tueio irdi n  in n  neionnenion  tnn n nat   nehn n  nnee  nenn  eun  hen n n  nued hen  ue  hen  osedoirdm nann   te tien  nu oie n roio   ne  n   onniaon no   onn nntnne  n n  tndn nen  ue  hen  ani nn ni un  hen  anieiennie un  hen  aniunin  neun  hen  aoien too  nh  nahn   ni n  hn n  rneonnn  nenn  tinio ie eedheensenn  n nn  eun  hen  oseen mtuni  nenn i   r hennien  an maho  nn  i e an   ien  oseen   un  ion  nu hr  onu  n    end n n ao ienein tu m he   nnnn  aunnin  n  in   tnu  nin  nhdahn   ti ansanndan  enenn   ae   n   ien n  mtn   hnio ie e  n n nnhn annnnan aho  n nnn  nu io  n ie    h n n  een  hrd hn in i nu   n nnntn  uny   nnen  ahe   oseennenn  d n nnntotn h ne    n hn n  on   n nini n  ani  nahe  n  nnie  ne n  n  nen  hf nn  n nini n  nu n ed nntn n n  n h  nnnn e o     aeia   tn mtn  n  n  nnn   ahn i  i hn nnmdn n   unie  nnnann n en n nnnt  neio nn     to   the  nn n  nu enenydannnn ne o tho   e   ne  en  niionnn  n ien  ho  nn  ao  hr  r  nnie  ne   on   ahn n r  n  ndd  nn  tnnn  n n  un n  nnninnne nn n  n  iohrd ne  ion  osennte mthn ndnn   ne  nn ennee  tn   ntenisinio he e    nir  n  ee io h n  tn    nn  eneenn  eun  hen  osehein nnn ehn nh  tun sne ir    nu n nn n nnn   onio nnie nn  n    ion n t  io eetn ndn ann ndu e  en ne r n mtn   oniee rnnn e nn   rn n n     theai nn eeun  hen   n nenn  nnthdrn nhnn neh  ion  hon  hn n rn   hen oien nnneee   ar n  an m honiann  eun  hen   nn mtn  n nntnnen an  osnn  onee  an   thn e  n  honth nn  neon  nntd enn n   n n    ne    hhni   tn nne  ann  aue  hen   n   nuin  n en dou  n  i unn  hh  nnnoir a  nn ienian   au   au   ne  ostn  n    ion  an man d nuin  r rrn ens nonienitann nn  netan mtn\n"
     ]
    },
    {
     "name": "stderr",
     "output_type": "stream",
     "text": [
      " 95%|████████████████████████████████████████████████████████████████████████████    | 190/200 [01:28<00:04,  2.14it/s]"
     ]
    },
    {
     "name": "stdout",
     "output_type": "stream",
     "text": [
      "loss at epoch  190  is  3.07315792354\n",
      "gs o  o ene ngI,eethr  nhn n  n hnncnoinn t  inin hntne   n nnnhncte ti  csnn  ho nnehanntrn   naoo n  an  a n iein nn el    cn endna t lonn  auncohnn aon tn h uncohnn ansdn uncohnn ahoni nnis     n  hannann uc  nu n  ann nnn annnni ndsdn hn n n nn neoscn nchun n tn  e ne  d in c snnnan n hn nsnntenid aecir hn a n  hnancanehoncnsinn tlnn n n sndn  hn ns encn  l nn  auncohnn ean  nsndthnn  uncohnn ansddn ndnalann   uncohnn aon n  dn enin   oe asnd cunsaannnn st nnnnne ne  nnnd  r o eno  uncohnn eal nnnun aunc hnn eal  honoho uncohnn eal unin   auncohnn eaai   aan aehntra nsn n  n  in nn nn nncn  nnen   hnin hntne hn nsnnnn l nn  auncohnn ansd  n  unn lonl nh n dshnnn nn eal  ihod nn  han aoenshnn ansdsnnnaunc hnn aou ho  anuueo na asoi n  a shonnho  l  oin eannnsc  unn l an shl   anu dnho aes itn teei  ns nni nsdnn no    ensdn n hnnaeod  n ashnin hn n  n n nohlndnnnd n aho anconn  nu hod n ho t  iecnna e n ahod en i lionu  tn nnci    nn odnoinc  hecsansde no n    n nnotttn h nn n o  hnan a eosnnnesnhnn tanhon  hr inc nnhn unn l an tnya ti tn   c c nhnn aou n    nnino  n aa i nonnn snn    t n  n  eso ln ar dn snco e  tn hd h hn nnann nn  unh dnoni n enalnn ceos   snhnsensnne sn   ain  nnnn  nu nnnnnd nnnnneman ahod uo   na u n anehonn   n hnnn hn ann n ns ho  e nnnhn unn unonc  ahn n hn n  r rdsni aannned  n  un e  cnl nn nann r  n  hain  uncohnn ansd neidd hn n nn  hnn  nn  nnen   nu  c e  sinhn hnt n  nn nauna un in h n daln dsnn  n n nn  auncohnn ansdhn nsnnnn hn r o  nsdsnnnhon  anu l  nencnnn  annhodnnhn n   n nn hnn e lenhn n snesdns nnaeonoo sdn ncnaar   nn nnninesnnnis nnn n rnn alnhuca honh nn  auncohnn eao neon annco  n lhdnalhhd  nn ahon ahod  rnn  hnldnhnn tnnn nd  arnn nal  oirnh nn nauncohnn eae ni n ao an ennna m  csnn annnn   n   ahn n un  hda hun  dninyctn  o nemn    eaeh n nnenn honh n anoennna nn  auncohnn eaoo anuhdn n nn onuuen niaunnntho  snnn r  snonnhnctan  s esn   n tlos ctnn  n nn hnn h n dare anuhdnarnhenn nsnnnnhnctao n nnn  ntal   m\n"
     ]
    },
    {
     "name": "stderr",
     "output_type": "stream",
     "text": [
      "100%|████████████████████████████████████████████████████████████████████████████████| 200/200 [01:33<00:00,  2.14it/s]\n"
     ]
    }
   ],
   "source": [
    "# initializing hidden state and squared gradient\n",
    "ht = [np.zeros((hidden_size, 1))]\n",
    "grad_squared_xh, grad_squared_hh, grad_squared_hy = np.zeros_like(Wxh), np.zeros_like(Whh), np.zeros_like(Why)\n",
    "\n",
    "loss = 0\n",
    "for e in tqdm(range(epochs)):\n",
    "    for steps in range(0, len(X), seq_size):\n",
    "        inputs = X[steps:steps+seq_size]\n",
    "        targets = y[steps:steps+seq_size]\n",
    "\n",
    "        # forward and backward pass\n",
    "        ht, pt, loss = forward_pass(inputs, ht)\n",
    "        dWhh, dWxh, dWhy = backward_pass(inputs, inputs, ht, pt)\n",
    "        \n",
    "        # adagrad\n",
    "        grad_squared_xh += dWxh ** 2\n",
    "        grad_squared_hh += dWhh ** 2\n",
    "        grad_squared_hy += dWhy ** 2\n",
    "        \n",
    "        # parameter update\n",
    "        Wxh -= dWxh / np.sqrt(grad_squared_xh + 1e-7) * learning_rate\n",
    "        Whh -= dWhh / np.sqrt(grad_squared_hh + 1e-7) * learning_rate\n",
    "        Why -= dWhy / np.sqrt(grad_squared_hy + 1e-7) * learning_rate\n",
    "    if e % 10 == 0:\n",
    "        print('loss at epoch ', e, ' is ', loss)\n",
    "        print(predict(X, Wxh, Whh, Why, ht))"
   ]
  },
  {
   "cell_type": "markdown",
   "metadata": {},
   "source": []
  }
 ],
 "metadata": {
  "kernelspec": {
   "display_name": "Python 3",
   "language": "python",
   "name": "python3"
  },
  "language_info": {
   "codemirror_mode": {
    "name": "ipython",
    "version": 3
   },
   "file_extension": ".py",
   "mimetype": "text/x-python",
   "name": "python",
   "nbconvert_exporter": "python",
   "pygments_lexer": "ipython3",
   "version": "3.6.3"
  },
  "toc": {
   "base_numbering": 1,
   "nav_menu": {},
   "number_sections": true,
   "sideBar": true,
   "skip_h1_title": true,
   "title_cell": "Table of Contents",
   "title_sidebar": "Contents",
   "toc_cell": false,
   "toc_position": {},
   "toc_section_display": true,
   "toc_window_display": false
  }
 },
 "nbformat": 4,
 "nbformat_minor": 2
}
