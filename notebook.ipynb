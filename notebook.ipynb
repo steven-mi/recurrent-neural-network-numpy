{
 "cells": [
  {
   "cell_type": "markdown",
   "metadata": {},
   "source": [
    "# Recurrent neural network with numpy"
   ]
  },
  {
   "cell_type": "markdown",
   "metadata": {},
   "source": [
    "## Prerequisite"
   ]
  },
  {
   "cell_type": "code",
   "execution_count": 1,
   "metadata": {},
   "outputs": [],
   "source": [
    "# some important imports\n",
    "import numpy as np\n",
    "from translator import Translator\n",
    "from tqdm import tqdm"
   ]
  },
  {
   "cell_type": "markdown",
   "metadata": {},
   "source": [
    "## Encoding text"
   ]
  },
  {
   "cell_type": "code",
   "execution_count": 2,
   "metadata": {},
   "outputs": [
    {
     "name": "stdout",
     "output_type": "stream",
     "text": [
      "text is  1993 long and has  56\n",
      "first 10 datas:  [39  7 11 22 36 10 32 38 22 36]\n",
      "first 10 labels:  [ 7 11 22 36 10 32 38 22 36 10]\n"
     ]
    }
   ],
   "source": [
    "# data\n",
    "text = open('data/toy.txt', 'r').read()\n",
    "\n",
    "# text = 'Hallo'\n",
    "text_length = len(text)\n",
    "chars = list(set(text))\n",
    "char_length = len(chars)\n",
    "print('text is ', text_length, 'long and has ', char_length)\n",
    "\n",
    "# creating training data\n",
    "char_to_int = dict((c, i) for i, c in enumerate(chars))\n",
    "int_to_char = dict((i, c) for i, c in enumerate(chars))\n",
    "\n",
    "X = np.array([char_to_int[char] for char in text])\n",
    "y = np.append(X[1:X.shape[0]], X[0])\n",
    "print('first 10 datas: ', X[0:10])\n",
    "print('first 10 labels: ', y[0:10])"
   ]
  },
  {
   "cell_type": "markdown",
   "metadata": {},
   "source": [
    "## Forward pass\n"
   ]
  },
  {
   "cell_type": "code",
   "execution_count": 3,
   "metadata": {},
   "outputs": [],
   "source": [
    "def forward_pass(X, hprev):\n",
    "    ht, pt, loss = [hprev[0]], [], 0\n",
    "    for t in range(len(X)):\n",
    "        # creating a one hot encoded vector\n",
    "        xt = np.zeros((char_length, 1))\n",
    "        xt[X[t]] = 1\n",
    "\n",
    "        # calculating forward pass\n",
    "        zt = np.dot(Wxh, xt) + np.dot(Whh, ht[t])\n",
    "        ht.append(np.tanh(zt))\n",
    "        yt = np.dot(Why, ht[t])\n",
    "\n",
    "        # getting probability distribution\n",
    "        pt.append(np.exp(yt) / np.sum(np.exp(yt)))\n",
    "\n",
    "        # summing up the loss of every output\n",
    "        loss += -np.sum(np.log(pt[t][X[t]]))\n",
    "    return ht, pt, loss / len(X)"
   ]
  },
  {
   "cell_type": "markdown",
   "metadata": {},
   "source": [
    "## Backward pass"
   ]
  },
  {
   "cell_type": "code",
   "execution_count": 4,
   "metadata": {},
   "outputs": [],
   "source": [
    "def backward_pass(X, y, ht, pt):\n",
    "    dWhh, dWxh, dWhy = np.zeros_like(Whh), np.zeros_like(Wxh), np.zeros_like(Why)\n",
    "    for t in reversed(range(len(X))):\n",
    "        dout = pt.copy()\n",
    "        dout[t][y[t]] -= 1\n",
    "        dWhy += np.dot(dout[t], ht[t].T)\n",
    "        dh = np.dot(Why.T, dout[t])\n",
    "        dtanh = (1 - ht[t] * ht[t]) * dh\n",
    "        xt = np.zeros((char_length, 1))\n",
    "        xt[X[t]] = 1\n",
    "        dWxh += np.dot(dtanh, xt.T)\n",
    "        dWhh += np.dot(dtanh, ht[t - 1].T)\n",
    "    \n",
    "    dWhh /= len(X)\n",
    "    dWxh /= len(X)\n",
    "    dWhy /= len(X)\n",
    "    # gradient clipping\n",
    "    for dparam in [dWxh, dWhh, dWhy]:\n",
    "        np.clip(dparam, -5, 5, out=dparam)\n",
    "    return dWhh, dWxh, dWhy"
   ]
  },
  {
   "cell_type": "markdown",
   "metadata": {},
   "source": [
    "## Predict function"
   ]
  },
  {
   "cell_type": "code",
   "execution_count": 5,
   "metadata": {
    "collapsed": true
   },
   "outputs": [],
   "source": [
    "def predict(X, Wxh, Whh, Why, hprev):\n",
    "    ht, prediction = [hprev[0]], ''\n",
    "    for t in range(len(X)):\n",
    "        # creating a one hot encoded vector\n",
    "        xt = np.zeros((char_length, 1))\n",
    "        xt[X[t]] = 1\n",
    "\n",
    "        # calculating forward pass\n",
    "        zt = np.dot(Wxh, xt) + np.dot(Whh, ht[t])\n",
    "        ht.append(np.tanh(zt))\n",
    "        yt = np.dot(Why, ht[t])\n",
    "\n",
    "        # getting probability distribution\n",
    "        pt.append(np.exp(yt) / np.sum(np.exp(yt)))\n",
    "\n",
    "        # creating a prediction string\n",
    "        prediction += chars[np.argmax(pt[t])]\n",
    "    return prediction"
   ]
  },
  {
   "cell_type": "markdown",
   "metadata": {},
   "source": [
    "## Updating parameter with adagrad"
   ]
  },
  {
   "cell_type": "markdown",
   "metadata": {},
   "source": [
    "### Intizializing hyperparameter"
   ]
  },
  {
   "cell_type": "code",
   "execution_count": 6,
   "metadata": {},
   "outputs": [
    {
     "name": "stdout",
     "output_type": "stream",
     "text": [
      "Training  10  epochs with a sequence size of  15 , a hidden size of  200  and a learning rate of 1e-08\n"
     ]
    }
   ],
   "source": [
    "seq_size = 15\n",
    "hidden_size = 200\n",
    "learning_rate = 1e-8\n",
    "epochs = 10\n",
    "\n",
    "print('Training ', epochs, ' epochs with a sequence size of ', seq_size, ', a hidden size of ', hidden_size, ' and a learning rate of', learning_rate)"
   ]
  },
  {
   "cell_type": "markdown",
   "metadata": {},
   "source": [
    "### Initizializing learnable parameter"
   ]
  },
  {
   "cell_type": "code",
   "execution_count": 7,
   "metadata": {},
   "outputs": [],
   "source": [
    "Wxh = np.random.randn(hidden_size, char_length) * 0.01\n",
    "Whh = np.random.randn(hidden_size, hidden_size) * 0.01\n",
    "Why = np.random.randn(char_length, hidden_size) * 0.01"
   ]
  },
  {
   "cell_type": "code",
   "execution_count": 8,
   "metadata": {},
   "outputs": [
    {
     "name": "stderr",
     "output_type": "stream",
     "text": [
      "\r",
      "  0%|                                                                                           | 0/10 [00:00<?, ?it/s]"
     ]
    },
    {
     "name": "stdout",
     "output_type": "stream",
     "text": [
      "loss at epoch  0  is  4.02495572847\n",
      "Wgpw-Nx-dpIgeW)\"(W(NsDW(NWpxa(woNxW)jxNxp-\"(gNxNxgNxpg\"(hâp-wWhNc,pg\"(xhâ)g,p-(NsDwW0\"(W(ps)-D(ah(c-W-s((- (pwW-INxNxp-(a(\"DIcpgp)h-âD\"(((apgg(,I-âNxp-(wW(pwgN(,I-âNxp-(,g(((9I-âNxp-(Ns(N(W(-g((-(hr©-N(wW(r(aIhg(w9(w-D(wW(WpWh(r(c,(-Ehg(w-Nw(((ch(a(\"dW-Dc(,-NI,Nxr©a\"(chbchgD-Nx-s(gwWh(]ppgN]((ggwp)(Nh (ExNs(NsD(hr©-Nx(a-(woNxW)jxNxp-(-cpHEhW(gDDWg(Nw(W)-zW)jh(((apgg(,I-âNxp-0(a-(wHwhâNxr©(,I-âNxp-(,g(hDNsDc(((apgg(,I-âNxp-(wW(,Ng(-Ds(Nxr©(B,-(g-©â)9xp(xpW(x-g\"(r(c,pIgE\"(pxaah (((chE(cx(,I-âNxp-\"(((bcp9xN(,I-âNxp-\"(((INWa)N\"(9I-âNxp-\"(((9xN-Dgg(,I-âNxp-\"(hNpx9\"(,-(Es)ps(pxgD(,N(,g(Nw(-D(W(j)W)jh xââ)\"(gNxNxgNxpg\"(N\"-)pxaa\"(((apgg(,I-âNxp-(,g(IgD (,pW(b(c(WhNhc(hgNxWxNWp-\"((- (NsD(hr©-N(,-(hIhgNxp-(,g(gwWh(,I-âNxp-(w9(NsD(x,99Dch-âD(HDNE©D-(hgNxWxNh ((- (Ncdh(r(aIhg(,pW((-(,-gNx-âD(w9(x(Nxx(ssD(pw-âDoN\"((g(wE ((g(Ã(-a(pD\"(E(g(chD-NcpxsâD (,-(gNxNxgNxpg(H\"(a-\"(s(W(rca (,-(NsD(W)x ah(w9(NsD(]1Ns(pD-NIc0xBf-()\"(NsD(pw-NhjN(w9(hâp-wW)pg\"(,pW(hj(Wbah\"(Ns)g(,g(IgI(aa\"(hâp-wW)p(pwgN(w\"(chschNx()\"(pE(gg,9xpxNWp-\"(,N(,g(NsD(b©-(aN\"(9pW((-(,-âpWkhâN(pE(gg,9xpxNWp-(w9((-(hj(Wbahe()\"((pNI(c,(a(gp)h-âD\"(,N(,g(IgD (,-((-(,-gIc(-âD(pw-NhjN(Nw(Wpxha(-D-D9xNg(-(xx(w)Dc(bchW)IWg\"(-(cNxpIa(ca\"(g,-âD(NsD(Ew\"Wg(w9(H(c(a (yW(WWCc(,-(NsD(,C]1geBBh()\"(woNxWxa(pw-NcpE(NsD(apgg(,g(NsD(b©-(aN\"(9pW(,xxa)-s(Nw((ps)hr©(((xhg,Wh (r(aIhe()\"(,x-(-â)(a(c,gW(W(-(sDWh-N(NsD(,I-âNxp-(,g(W(--© (Nw(((Wp-DNxc0(apggeââ)\"(pE(gg,pxa(gNxNxgNxpg,AL-pNs(,chjIh-NxgN(x- (Ix\"Dg,(-yAL((apgg(,I-âNxp-(,g(N\"-)pxaa\"(Nch(Nh ((g(gwWhNs)-s(w9(((Hxp)scpI- (W(NsDW(NWpxa(pw-â©-Nxp-0(yW,Nxpg(gIâs((g(r0(x E(cxg(1hW)-s((- (©xgg,W(©,pswE(g(s(ah-(s()D((cCdh (Ns(N(apgg(,I-âNxp-g(chjI,Wh(WIps(sch(Nhc((NNh-Nxp-(Ns(-(NsD\"(s()D(Nc( ,Nxp-(aa\"(HDD-(sxr©-((- (Ns(N(apgg(,I-âNxp-g(IgD (,-(\"h(a(Ew\"a (xhâ)g,p-(W(WW-s(\"DD (Nw(\"h9ahâN(xpNI(a(hW-)W,pxa(hj-©c,h-âDe(ssD\"((cCdh(Ns(N(ch(atEw\"a (apgg(,I-âNxp-g((ch(w9Nh-(rDc0(x,99Dch-N(,cpW(NsD(gWppNs\"(g\"WWhNc,p(w-Dg(IgD (H\"(pE(gg,pxa(pw-â©-Nxp-\"((- ((ch(w9Nh-(s)Esa\"((g\"WWhNc,p\"(\"w-a)-D(c\"((- (x\n"
     ]
    },
    {
     "name": "stderr",
     "output_type": "stream",
     "text": [
      "\r",
      " 10%|████████▎                                                                          | 1/10 [00:00<00:06,  1.37it/s]"
     ]
    },
    {
     "name": "stdout",
     "output_type": "stream",
     "text": [
      "loss at epoch  1  is  4.0249557068\n",
      "Wgpw-Nx-dpIgeW)\"(W(NsDW(NWpxa(woNxW)jxNxp-\"(gNxNxgNxpg\"(hâp-wWhNc,pg\"(xhâ)g,p-(NsDwW0\"(W(ps)-D(ah(c-W-s((- (pwW-INxNxp-(a(\"DIcpgp)h-âD\"(((apgg(,I-âNxp-(wW(pwgN(,I-âNxp-(,g(((9I-âNxp-(Ns(N(W(-g((-(hr©-N(wW(r(aIhg(w9(w-D(wW(WpWh(r(c,(-Ehg(w-Nw(((ch(a(\"dW-Dc(,-NI,Nxr©a\"(chbchgD-Nx-s(gwWh(]ppgN]((ggwp)(Nh (ExNs(NsD(hr©-Nx(a-(woNxW)jxNxp-(-cpHEhW(gDDWg(Nw(W)-zW)jh(((apgg(,I-âNxp-0(a-(wHwhâNxr©(,I-âNxp-(,g(hDNsDc(((apgg(,I-âNxp-(wW(,Ng(-Ds(Nxr©(B,-(g-©â)9xp(xpW(x-g\"(r(c,pIgE\"(pxaah (((chE(cx(,I-âNxp-\"(((bcp9xN(,I-âNxp-\"(((INWa)N\"(9I-âNxp-\"(((9xN-Dgg(,I-âNxp-\"(hNpx9\"(,-(Es)ps(pxgD(,N(,g(Nw(-D(W(j)W)jh xââ)\"(gNxNxgNxpg\"(N\"-)pxaa\"(((apgg(,I-âNxp-(,g(IgD (,pW(b(c(WhNhc(hgNxWxNWp-\"((- (NsD(hr©-N(,-(hIhgNxp-(,g(gwWh(,I-âNxp-(w9(NsD(x,99Dch-âD(HDNE©D-(hgNxWxNh ((- (Ncdh(r(aIhg(,pW((-(,-gNx-âD(w9(x(Nxx(ssD(pw-âDoN\"((g(wE ((g(Ã(-a(pD\"(E(g(chD-NcpxsâD (,-(gNxNxgNxpg(H\"(a-\"(s(W(rca (,-(NsD(W)x ah(w9(NsD(]1Ns(pD-NIc0xBf-()\"(NsD(pw-NhjN(w9(hâp-wW)pg\"(,pW(hj(Wbah\"(Ns)g(,g(IgI(aa\"(hâp-wW)p(pwgN(w\"(chschNx()\"(pE(gg,9xpxNWp-\"(,N(,g(NsD(b©-(aN\"(9pW((-(,-âpWkhâN(pE(gg,9xpxNWp-(w9((-(hj(Wbahe()\"((pNI(c,(a(gp)h-âD\"(,N(,g(IgD (,-((-(,-gIc(-âD(pw-NhjN(Nw(Wpxha(-D-D9xNg(-(xx(w)Dc(bchW)IWg\"(-(cNxpIa(ca\"(g,-âD(NsD(Ew\"Wg(w9(H(c(a (yW(WWCc(,-(NsD(,C]1geBBh()\"(woNxWxa(pw-NcpE(NsD(apgg(,g(NsD(b©-(aN\"(9pW(,xxa)-s(Nw((ps)hr©(((xhg,Wh (r(aIhe()\"(,x-(-â)(a(c,gW(W(-(sDWh-N(NsD(,I-âNxp-(,g(W(--© (Nw(((Wp-DNxc0(apggeââ)\"(pE(gg,pxa(gNxNxgNxpg,AL-pNs(,chjIh-NxgN(x- (Ix\"Dg,(-yAL((apgg(,I-âNxp-(,g(N\"-)pxaa\"(Nch(Nh ((g(gwWhNs)-s(w9(((Hxp)scpI- (W(NsDW(NWpxa(pw-â©-Nxp-0(yW,Nxpg(gIâs((g(r0(x E(cxg(1hW)-s((- (©xgg,W(©,pswE(g(s(ah-(s()D((cCdh (Ns(N(apgg(,I-âNxp-g(chjI,Wh(WIps(sch(Nhc((NNh-Nxp-(Ns(-(NsD\"(s()D(Nc( ,Nxp-(aa\"(HDD-(sxr©-((- (Ns(N(apgg(,I-âNxp-g(IgD (,-(\"h(a(Ew\"a (xhâ)g,p-(W(WW-s(\"DD (Nw(\"h9ahâN(xpNI(a(hW-)W,pxa(hj-©c,h-âDe(ssD\"((cCdh(Ns(N(ch(atEw\"a (apgg(,I-âNxp-g((ch(w9Nh-(rDc0(x,99Dch-N(,cpW(NsD(gWppNs\"(g\"WWhNc,p(w-Dg(IgD (H\"(pE(gg,pxa(pw-â©-Nxp-\"((- ((ch(w9Nh-(s)Esa\"((g\"WWhNc,p\"(\"w-a)-D(c\"((- (x\n"
     ]
    },
    {
     "name": "stderr",
     "output_type": "stream",
     "text": [
      "\r",
      " 20%|████████████████▌                                                                  | 2/10 [00:01<00:06,  1.32it/s]"
     ]
    },
    {
     "name": "stdout",
     "output_type": "stream",
     "text": [
      "loss at epoch  2  is  4.02495569011\n",
      "Wgpw-Nx-dpIgeW)\"(W(NsDW(NWpxa(woNxW)jxNxp-\"(gNxNxgNxpg\"(hâp-wWhNc,pg\"(xhâ)g,p-(NsDwW0\"(W(ps)-D(ah(c-W-s((- (pwW-INxNxp-(a(\"DIcpgp)h-âD\"(((apgg(,I-âNxp-(wW(pwgN(,I-âNxp-(,g(((9I-âNxp-(Ns(N(W(-g((-(hr©-N(wW(r(aIhg(w9(w-D(wW(WpWh(r(c,(-Ehg(w-Nw(((ch(a(\"dW-Dc(,-NI,Nxr©a\"(chbchgD-Nx-s(gwWh(]ppgN]((ggwp)(Nh (ExNs(NsD(hr©-Nx(a-(woNxW)jxNxp-(-cpHEhW(gDDWg(Nw(W)-zW)jh(((apgg(,I-âNxp-0(a-(wHwhâNxr©(,I-âNxp-(,g(hDNsDc(((apgg(,I-âNxp-(wW(,Ng(-Ds(Nxr©(B,-(g-©â)9xp(xpW(x-g\"(r(c,pIgE\"(pxaah (((chE(cx(,I-âNxp-\"(((bcp9xN(,I-âNxp-\"(((INWa)N\"(9I-âNxp-\"(((9xN-Dgg(,I-âNxp-\"(hNpx9\"(,-(Es)ps(pxgD(,N(,g(Nw(-D(W(j)W)jh xââ)\"(gNxNxgNxpg\"(N\"-)pxaa\"(((apgg(,I-âNxp-(,g(IgD (,pW(b(c(WhNhc(hgNxWxNWp-\"((- (NsD(hr©-N(,-(hIhgNxp-(,g(gwWh(,I-âNxp-(w9(NsD(x,99Dch-âD(HDNE©D-(hgNxWxNh ((- (Ncdh(r(aIhg(,pW((-(,-gNx-âD(w9(x(Nxx(ssD(pw-âDoN\"((g(wE ((g(Ã(-a(pD\"(E(g(chD-NcpxsâD (,-(gNxNxgNxpg(H\"(a-\"(s(W(rca (,-(NsD(W)x ah(w9(NsD(]1Ns(pD-NIc0xBf-()\"(NsD(pw-NhjN(w9(hâp-wW)pg\"(,pW(hj(Wbah\"(Ns)g(,g(IgI(aa\"(hâp-wW)p(pwgN(w\"(chschNx()\"(pE(gg,9xpxNWp-\"(,N(,g(NsD(b©-(aN\"(9pW((-(,-âpWkhâN(pE(gg,9xpxNWp-(w9((-(hj(Wbahe()\"((pNI(c,(a(gp)h-âD\"(,N(,g(IgD (,-((-(,-gIc(-âD(pw-NhjN(Nw(Wpxha(-D-D9xNg(-(xx(w)Dc(bchW)IWg\"(-(cNxpIa(ca\"(g,-âD(NsD(Ew\"Wg(w9(H(c(a (yW(WWCc(,-(NsD(,C]1geBBh()\"(woNxWxa(pw-NcpE(NsD(apgg(,g(NsD(b©-(aN\"(9pW(,xxa)-s(Nw((ps)hr©(((xhg,Wh (r(aIhe()\"(,x-(-â)(a(c,gW(W(-(sDWh-N(NsD(,I-âNxp-(,g(W(--© (Nw(((Wp-DNxc0(apggeââ)\"(pE(gg,pxa(gNxNxgNxpg,AL-pNs(,chjIh-NxgN(x- (Ix\"Dg,(-yAL((apgg(,I-âNxp-(,g(N\"-)pxaa\"(Nch(Nh ((g(gwWhNs)-s(w9(((Hxp)scpI- (W(NsDW(NWpxa(pw-â©-Nxp-0(yW,Nxpg(gIâs((g(r0(x E(cxg(1hW)-s((- (©xgg,W(©,pswE(g(s(ah-(s()D((cCdh (Ns(N(apgg(,I-âNxp-g(chjI,Wh(WIps(sch(Nhc((NNh-Nxp-(Ns(-(NsD\"(s()D(Nc( ,Nxp-(aa\"(HDD-(sxr©-((- (Ns(N(apgg(,I-âNxp-g(IgD (,-(\"h(a(Ew\"a (xhâ)g,p-(W(WW-s(\"DD (Nw(\"h9ahâN(xpNI(a(hW-)W,pxa(hj-©c,h-âDe(ssD\"((cCdh(Ns(N(ch(atEw\"a (apgg(,I-âNxp-g((ch(w9Nh-(rDc0(x,99Dch-N(,cpW(NsD(gWppNs\"(g\"WWhNc,p(w-Dg(IgD (H\"(pE(gg,pxa(pw-â©-Nxp-\"((- ((ch(w9Nh-(s)Esa\"((g\"WWhNc,p\"(\"w-a)-D(c\"((- (x\n"
     ]
    },
    {
     "name": "stderr",
     "output_type": "stream",
     "text": [
      "\r",
      " 30%|████████████████████████▉                                                          | 3/10 [00:02<00:05,  1.37it/s]"
     ]
    },
    {
     "name": "stdout",
     "output_type": "stream",
     "text": [
      "loss at epoch  3  is  4.024955676\n",
      "Wgpw-Nx-dpIgeW)\"(W(NsDW(NWpxa(woNxW)jxNxp-\"(gNxNxgNxpg\"(hâp-wWhNc,pg\"(xhâ)g,p-(NsDwW0\"(W(ps)-D(ah(c-W-s((- (pwW-INxNxp-(a(\"DIcpgp)h-âD\"(((apgg(,I-âNxp-(wW(pwgN(,I-âNxp-(,g(((9I-âNxp-(Ns(N(W(-g((-(hr©-N(wW(r(aIhg(w9(w-D(wW(WpWh(r(c,(-Ehg(w-Nw(((ch(a(\"dW-Dc(,-NI,Nxr©a\"(chbchgD-Nx-s(gwWh(]ppgN]((ggwp)(Nh (ExNs(NsD(hr©-Nx(a-(woNxW)jxNxp-(-cpHEhW(gDDWg(Nw(W)-zW)jh(((apgg(,I-âNxp-0(a-(wHwhâNxr©(,I-âNxp-(,g(hDNsDc(((apgg(,I-âNxp-(wW(,Ng(-Ds(Nxr©(B,-(g-©â)9xp(xpW(x-g\"(r(c,pIgE\"(pxaah (((chE(cx(,I-âNxp-\"(((bcp9xN(,I-âNxp-\"(((INWa)N\"(9I-âNxp-\"(((9xN-Dgg(,I-âNxp-\"(hNpx9\"(,-(Es)ps(pxgD(,N(,g(Nw(-D(W(j)W)jh xââ)\"(gNxNxgNxpg\"(N\"-)pxaa\"(((apgg(,I-âNxp-(,g(IgD (,pW(b(c(WhNhc(hgNxWxNWp-\"((- (NsD(hr©-N(,-(hIhgNxp-(,g(gwWh(,I-âNxp-(w9(NsD(x,99Dch-âD(HDNE©D-(hgNxWxNh ((- (Ncdh(r(aIhg(,pW((-(,-gNx-âD(w9(x(Nxx(ssD(pw-âDoN\"((g(wE ((g(Ã(-a(pD\"(E(g(chD-NcpxsâD (,-(gNxNxgNxpg(H\"(a-\"(s(W(rca (,-(NsD(W)x ah(w9(NsD(]1Ns(pD-NIc0xBf-()\"(NsD(pw-NhjN(w9(hâp-wW)pg\"(,pW(hj(Wbah\"(Ns)g(,g(IgI(aa\"(hâp-wW)p(pwgN(w\"(chschNx()\"(pE(gg,9xpxNWp-\"(,N(,g(NsD(b©-(aN\"(9pW((-(,-âpWkhâN(pE(gg,9xpxNWp-(w9((-(hj(Wbahe()\"((pNI(c,(a(gp)h-âD\"(,N(,g(IgD (,-((-(,-gIc(-âD(pw-NhjN(Nw(Wpxha(-D-D9xNg(-(xx(w)Dc(bchW)IWg\"(-(cNxpIa(ca\"(g,-âD(NsD(Ew\"Wg(w9(H(c(a (yW(WWCc(,-(NsD(,C]1geBBh()\"(woNxWxa(pw-NcpE(NsD(apgg(,g(NsD(b©-(aN\"(9pW(,xxa)-s(Nw((ps)hr©(((xhg,Wh (r(aIhe()\"(,x-(-â)(a(c,gW(W(-(sDWh-N(NsD(,I-âNxp-(,g(W(--© (Nw(((Wp-DNxc0(apggeââ)\"(pE(gg,pxa(gNxNxgNxpg,AL-pNs(,chjIh-NxgN(x- (Ix\"Dg,(-yAL((apgg(,I-âNxp-(,g(N\"-)pxaa\"(Nch(Nh ((g(gwWhNs)-s(w9(((Hxp)scpI- (W(NsDW(NWpxa(pw-â©-Nxp-0(yW,Nxpg(gIâs((g(r0(x E(cxg(1hW)-s((- (©xgg,W(©,pswE(g(s(ah-(s()D((cCdh (Ns(N(apgg(,I-âNxp-g(chjI,Wh(WIps(sch(Nhc((NNh-Nxp-(Ns(-(NsD\"(s()D(Nc( ,Nxp-(aa\"(HDD-(sxr©-((- (Ns(N(apgg(,I-âNxp-g(IgD (,-(\"h(a(Ew\"a (xhâ)g,p-(W(WW-s(\"DD (Nw(\"h9ahâN(xpNI(a(hW-)W,pxa(hj-©c,h-âDe(ssD\"((cCdh(Ns(N(ch(atEw\"a (apgg(,I-âNxp-g((ch(w9Nh-(rDc0(x,99Dch-N(,cpW(NsD(gWppNs\"(g\"WWhNc,p(w-Dg(IgD (H\"(pE(gg,pxa(pw-â©-Nxp-\"((- ((ch(w9Nh-(s)Esa\"((g\"WWhNc,p\"(\"w-a)-D(c\"((- (x\n"
     ]
    },
    {
     "name": "stderr",
     "output_type": "stream",
     "text": [
      "\r",
      " 40%|█████████████████████████████████▏                                                 | 4/10 [00:02<00:04,  1.38it/s]"
     ]
    },
    {
     "name": "stdout",
     "output_type": "stream",
     "text": [
      "loss at epoch  4  is  4.02495566355\n",
      "Wgpw-Nx-dpIgeW)\"(W(NsDW(NWpxa(woNxW)jxNxp-\"(gNxNxgNxpg\"(hâp-wWhNc,pg\"(xhâ)g,p-(NsDwW0\"(W(ps)-D(ah(c-W-s((- (pwW-INxNxp-(a(\"DIcpgp)h-âD\"(((apgg(,I-âNxp-(wW(pwgN(,I-âNxp-(,g(((9I-âNxp-(Ns(N(W(-g((-(hr©-N(wW(r(aIhg(w9(w-D(wW(WpWh(r(c,(-Ehg(w-Nw(((ch(a(\"dW-Dc(,-NI,Nxr©a\"(chbchgD-Nx-s(gwWh(]ppgN]((ggwp)(Nh (ExNs(NsD(hr©-Nx(a-(woNxW)jxNxp-(-cpHEhW(gDDWg(Nw(W)-zW)jh(((apgg(,I-âNxp-0(a-(wHwhâNxr©(,I-âNxp-(,g(hDNsDc(((apgg(,I-âNxp-(wW(,Ng(-Ds(Nxr©(B,-(g-©â)9xp(xpW(x-g\"(r(c,pIgE\"(pxaah (((chE(cx(,I-âNxp-\"(((bcp9xN(,I-âNxp-\"(((INWa)N\"(9I-âNxp-\"(((9xN-Dgg(,I-âNxp-\"(hNpx9\"(,-(Es)ps(pxgD(,N(,g(Nw(-D(W(j)W)jh xââ)\"(gNxNxgNxpg\"(N\"-)pxaa\"(((apgg(,I-âNxp-(,g(IgD (,pW(b(c(WhNhc(hgNxWxNWp-\"((- (NsD(hr©-N(,-(hIhgNxp-(,g(gwWh(,I-âNxp-(w9(NsD(x,99Dch-âD(HDNE©D-(hgNxWxNh ((- (Ncdh(r(aIhg(,pW((-(,-gNx-âD(w9(x(Nxx(ssD(pw-âDoN\"((g(wE ((g(Ã(-a(pD\"(E(g(chD-NcpxsâD (,-(gNxNxgNxpg(H\"(a-\"(s(W(rca (,-(NsD(W)x ah(w9(NsD(]1Ns(pD-NIc0xBf-()\"(NsD(pw-NhjN(w9(hâp-wW)pg\"(,pW(hj(Wbah\"(Ns)g(,g(IgI(aa\"(hâp-wW)p(pwgN(w\"(chschNx()\"(pE(gg,9xpxNWp-\"(,N(,g(NsD(b©-(aN\"(9pW((-(,-âpWkhâN(pE(gg,9xpxNWp-(w9((-(hj(Wbahe()\"((pNI(c,(a(gp)h-âD\"(,N(,g(IgD (,-((-(,-gIc(-âD(pw-NhjN(Nw(Wpxha(-D-D9xNg(-(xx(w)Dc(bchW)IWg\"(-(cNxpIa(ca\"(g,-âD(NsD(Ew\"Wg(w9(H(c(a (yW(WWCc(,-(NsD(,C]1geBBh()\"(woNxWxa(pw-NcpE(NsD(apgg(,g(NsD(b©-(aN\"(9pW(,xxa)-s(Nw((ps)hr©(((xhg,Wh (r(aIhe()\"(,x-(-â)(a(c,gW(W(-(sDWh-N(NsD(,I-âNxp-(,g(W(--© (Nw(((Wp-DNxc0(apggeââ)\"(pE(gg,pxa(gNxNxgNxpg,AL-pNs(,chjIh-NxgN(x- (Ix\"Dg,(-yAL((apgg(,I-âNxp-(,g(N\"-)pxaa\"(Nch(Nh ((g(gwWhNs)-s(w9(((Hxp)scpI- (W(NsDW(NWpxa(pw-â©-Nxp-0(yW,Nxpg(gIâs((g(r0(x E(cxg(1hW)-s((- (©xgg,W(©,pswE(g(s(ah-(s()D((cCdh (Ns(N(apgg(,I-âNxp-g(chjI,Wh(WIps(sch(Nhc((NNh-Nxp-(Ns(-(NsD\"(s()D(Nc( ,Nxp-(aa\"(HDD-(sxr©-((- (Ns(N(apgg(,I-âNxp-g(IgD (,-(\"h(a(Ew\"a (xhâ)g,p-(W(WW-s(\"DD (Nw(\"h9ahâN(xpNI(a(hW-)W,pxa(hj-©c,h-âDe(ssD\"((cCdh(Ns(N(ch(atEw\"a (apgg(,I-âNxp-g((ch(w9Nh-(rDc0(x,99Dch-N(,cpW(NsD(gWppNs\"(g\"WWhNc,p(w-Dg(IgD (H\"(pE(gg,pxa(pw-â©-Nxp-\"((- ((ch(w9Nh-(s)Esa\"((g\"WWhNc,p\"(\"w-a)-D(c\"((- (x\n"
     ]
    },
    {
     "name": "stderr",
     "output_type": "stream",
     "text": [
      "\r",
      " 50%|█████████████████████████████████████████▌                                         | 5/10 [00:03<00:03,  1.36it/s]"
     ]
    },
    {
     "name": "stdout",
     "output_type": "stream",
     "text": [
      "loss at epoch  5  is  4.02495565228\n",
      "Wgpw-Nx-dpIgeW)\"(W(NsDW(NWpxa(woNxW)jxNxp-\"(gNxNxgNxpg\"(hâp-wWhNc,pg\"(xhâ)g,p-(NsDwW0\"(W(ps)-D(ah(c-W-s((- (pwW-INxNxp-(a(\"DIcpgp)h-âD\"(((apgg(,I-âNxp-(wW(pwgN(,I-âNxp-(,g(((9I-âNxp-(Ns(N(W(-g((-(hr©-N(wW(r(aIhg(w9(w-D(wW(WpWh(r(c,(-Ehg(w-Nw(((ch(a(\"dW-Dc(,-NI,Nxr©a\"(chbchgD-Nx-s(gwWh(]ppgN]((ggwp)(Nh (ExNs(NsD(hr©-Nx(a-(woNxW)jxNxp-(-cpHEhW(gDDWg(Nw(W)-zW)jh(((apgg(,I-âNxp-0(a-(wHwhâNxr©(,I-âNxp-(,g(hDNsDc(((apgg(,I-âNxp-(wW(,Ng(-Ds(Nxr©(B,-(g-©â)9xp(xpW(x-g\"(r(c,pIgE\"(pxaah (((chE(cx(,I-âNxp-\"(((bcp9xN(,I-âNxp-\"(((INWa)N\"(9I-âNxp-\"(((9xN-Dgg(,I-âNxp-\"(hNpx9\"(,-(Es)ps(pxgD(,N(,g(Nw(-D(W(j)W)jh xââ)\"(gNxNxgNxpg\"(N\"-)pxaa\"(((apgg(,I-âNxp-(,g(IgD (,pW(b(c(WhNhc(hgNxWxNWp-\"((- (NsD(hr©-N(,-(hIhgNxp-(,g(gwWh(,I-âNxp-(w9(NsD(x,99Dch-âD(HDNE©D-(hgNxWxNh ((- (Ncdh(r(aIhg(,pW((-(,-gNx-âD(w9(x(Nxx(ssD(pw-âDoN\"((g(wE ((g(Ã(-a(pD\"(E(g(chD-NcpxsâD (,-(gNxNxgNxpg(H\"(a-\"(s(W(rca (,-(NsD(W)x ah(w9(NsD(]1Ns(pD-NIc0xBf-()\"(NsD(pw-NhjN(w9(hâp-wW)pg\"(,pW(hj(Wbah\"(Ns)g(,g(IgI(aa\"(hâp-wW)p(pwgN(w\"(chschNx()\"(pE(gg,9xpxNWp-\"(,N(,g(NsD(b©-(aN\"(9pW((-(,-âpWkhâN(pE(gg,9xpxNWp-(w9((-(hj(Wbahe()\"((pNI(c,(a(gp)h-âD\"(,N(,g(IgD (,-((-(,-gIc(-âD(pw-NhjN(Nw(Wpxha(-D-D9xNg(-(xx(w)Dc(bchW)IWg\"(-(cNxpIa(ca\"(g,-âD(NsD(Ew\"Wg(w9(H(c(a (yW(WWCc(,-(NsD(,C]1geBBh()\"(woNxWxa(pw-NcpE(NsD(apgg(,g(NsD(b©-(aN\"(9pW(,xxa)-s(Nw((ps)hr©(((xhg,Wh (r(aIhe()\"(,x-(-â)(a(c,gW(W(-(sDWh-N(NsD(,I-âNxp-(,g(W(--© (Nw(((Wp-DNxc0(apggeââ)\"(pE(gg,pxa(gNxNxgNxpg,AL-pNs(,chjIh-NxgN(x- (Ix\"Dg,(-yAL((apgg(,I-âNxp-(,g(N\"-)pxaa\"(Nch(Nh ((g(gwWhNs)-s(w9(((Hxp)scpI- (W(NsDW(NWpxa(pw-â©-Nxp-0(yW,Nxpg(gIâs((g(r0(x E(cxg(1hW)-s((- (©xgg,W(©,pswE(g(s(ah-(s()D((cCdh (Ns(N(apgg(,I-âNxp-g(chjI,Wh(WIps(sch(Nhc((NNh-Nxp-(Ns(-(NsD\"(s()D(Nc( ,Nxp-(aa\"(HDD-(sxr©-((- (Ns(N(apgg(,I-âNxp-g(IgD (,-(\"h(a(Ew\"a (xhâ)g,p-(W(WW-s(\"DD (Nw(\"h9ahâN(xpNI(a(hW-)W,pxa(hj-©c,h-âDe(ssD\"((cCdh(Ns(N(ch(atEw\"a (apgg(,I-âNxp-g((ch(w9Nh-(rDc0(x,99Dch-N(,cpW(NsD(gWppNs\"(g\"WWhNc,p(w-Dg(IgD (H\"(pE(gg,pxa(pw-â©-Nxp-\"((- ((ch(w9Nh-(s)Esa\"((g\"WWhNc,p\"(\"w-a)-D(c\"((- (x\n"
     ]
    },
    {
     "name": "stderr",
     "output_type": "stream",
     "text": [
      "\r",
      " 60%|█████████████████████████████████████████████████▊                                 | 6/10 [00:04<00:03,  1.33it/s]"
     ]
    },
    {
     "name": "stdout",
     "output_type": "stream",
     "text": [
      "loss at epoch  6  is  4.02495564191\n",
      "Wgpw-Nx-dpIgeW)\"(W(NsDW(NWpxa(woNxW)jxNxp-\"(gNxNxgNxpg\"(hâp-wWhNc,pg\"(xhâ)g,p-(NsDwW0\"(W(ps)-D(ah(c-W-s((- (pwW-INxNxp-(a(\"DIcpgp)h-âD\"(((apgg(,I-âNxp-(wW(pwgN(,I-âNxp-(,g(((9I-âNxp-(Ns(N(W(-g((-(hr©-N(wW(r(aIhg(w9(w-D(wW(WpWh(r(c,(-Ehg(w-Nw(((ch(a(\"dW-Dc(,-NI,Nxr©a\"(chbchgD-Nx-s(gwWh(]ppgN]((ggwp)(Nh (ExNs(NsD(hr©-Nx(a-(woNxW)jxNxp-(-cpHEhW(gDDWg(Nw(W)-zW)jh(((apgg(,I-âNxp-0(a-(wHwhâNxr©(,I-âNxp-(,g(hDNsDc(((apgg(,I-âNxp-(wW(,Ng(-Ds(Nxr©(B,-(g-©â)9xp(xpW(x-g\"(r(c,pIgE\"(pxaah (((chE(cx(,I-âNxp-\"(((bcp9xN(,I-âNxp-\"(((INWa)N\"(9I-âNxp-\"(((9xN-Dgg(,I-âNxp-\"(hNpx9\"(,-(Es)ps(pxgD(,N(,g(Nw(-D(W(j)W)jh xââ)\"(gNxNxgNxpg\"(N\"-)pxaa\"(((apgg(,I-âNxp-(,g(IgD (,pW(b(c(WhNhc(hgNxWxNWp-\"((- (NsD(hr©-N(,-(hIhgNxp-(,g(gwWh(,I-âNxp-(w9(NsD(x,99Dch-âD(HDNE©D-(hgNxWxNh ((- (Ncdh(r(aIhg(,pW((-(,-gNx-âD(w9(x(Nxx(ssD(pw-âDoN\"((g(wE ((g(Ã(-a(pD\"(E(g(chD-NcpxsâD (,-(gNxNxgNxpg(H\"(a-\"(s(W(rca (,-(NsD(W)x ah(w9(NsD(]1Ns(pD-NIc0xBf-()\"(NsD(pw-NhjN(w9(hâp-wW)pg\"(,pW(hj(Wbah\"(Ns)g(,g(IgI(aa\"(hâp-wW)p(pwgN(w\"(chschNx()\"(pE(gg,9xpxNWp-\"(,N(,g(NsD(b©-(aN\"(9pW((-(,-âpWkhâN(pE(gg,9xpxNWp-(w9((-(hj(Wbahe()\"((pNI(c,(a(gp)h-âD\"(,N(,g(IgD (,-((-(,-gIc(-âD(pw-NhjN(Nw(Wpxha(-D-D9xNg(-(xx(w)Dc(bchW)IWg\"(-(cNxpIa(ca\"(g,-âD(NsD(Ew\"Wg(w9(H(c(a (yW(WWCc(,-(NsD(,C]1geBBh()\"(woNxWxa(pw-NcpE(NsD(apgg(,g(NsD(b©-(aN\"(9pW(,xxa)-s(Nw((ps)hr©(((xhg,Wh (r(aIhe()\"(,x-(-â)(a(c,gW(W(-(sDWh-N(NsD(,I-âNxp-(,g(W(--© (Nw(((Wp-DNxc0(apggeââ)\"(pE(gg,pxa(gNxNxgNxpg,AL-pNs(,chjIh-NxgN(x- (Ix\"Dg,(-yAL((apgg(,I-âNxp-(,g(N\"-)pxaa\"(Nch(Nh ((g(gwWhNs)-s(w9(((Hxp)scpI- (W(NsDW(NWpxa(pw-â©-Nxp-0(yW,Nxpg(gIâs((g(r0(x E(cxg(1hW)-s((- (©xgg,W(©,pswE(g(s(ah-(s()D((cCdh (Ns(N(apgg(,I-âNxp-g(chjI,Wh(WIps(sch(Nhc((NNh-Nxp-(Ns(-(NsD\"(s()D(Nc( ,Nxp-(aa\"(HDD-(sxr©-((- (Ns(N(apgg(,I-âNxp-g(IgD (,-(\"h(a(Ew\"a (xhâ)g,p-(W(WW-s(\"DD (Nw(\"h9ahâN(xpNI(a(hW-)W,pxa(hj-©c,h-âDe(ssD\"((cCdh(Ns(N(ch(atEw\"a (apgg(,I-âNxp-g((ch(w9Nh-(rDc0(x,99Dch-N(,cpW(NsD(gWppNs\"(g\"WWhNc,p(w-Dg(IgD (H\"(pE(gg,pxa(pw-â©-Nxp-\"((- ((ch(w9Nh-(s)Esa\"((g\"WWhNc,p\"(\"w-a)-D(c\"((- (x\n"
     ]
    },
    {
     "name": "stderr",
     "output_type": "stream",
     "text": [
      "\r",
      " 70%|██████████████████████████████████████████████████████████                         | 7/10 [00:05<00:02,  1.34it/s]"
     ]
    },
    {
     "name": "stdout",
     "output_type": "stream",
     "text": [
      "loss at epoch  7  is  4.02495563225\n",
      "Wgpw-Nx-dpIgeW)\"(W(NsDW(NWpxa(woNxW)jxNxp-\"(gNxNxgNxpg\"(hâp-wWhNc,pg\"(xhâ)g,p-(NsDwW0\"(W(ps)-D(ah(c-W-s((- (pwW-INxNxp-(a(\"DIcpgp)h-âD\"(((apgg(,I-âNxp-(wW(pwgN(,I-âNxp-(,g(((9I-âNxp-(Ns(N(W(-g((-(hr©-N(wW(r(aIhg(w9(w-D(wW(WpWh(r(c,(-Ehg(w-Nw(((ch(a(\"dW-Dc(,-NI,Nxr©a\"(chbchgD-Nx-s(gwWh(]ppgN]((ggwp)(Nh (ExNs(NsD(hr©-Nx(a-(woNxW)jxNxp-(-cpHEhW(gDDWg(Nw(W)-zW)jh(((apgg(,I-âNxp-0(a-(wHwhâNxr©(,I-âNxp-(,g(hDNsDc(((apgg(,I-âNxp-(wW(,Ng(-Ds(Nxr©(B,-(g-©â)9xp(xpW(x-g\"(r(c,pIgE\"(pxaah (((chE(cx(,I-âNxp-\"(((bcp9xN(,I-âNxp-\"(((INWa)N\"(9I-âNxp-\"(((9xN-Dgg(,I-âNxp-\"(hNpx9\"(,-(Es)ps(pxgD(,N(,g(Nw(-D(W(j)W)jh xââ)\"(gNxNxgNxpg\"(N\"-)pxaa\"(((apgg(,I-âNxp-(,g(IgD (,pW(b(c(WhNhc(hgNxWxNWp-\"((- (NsD(hr©-N(,-(hIhgNxp-(,g(gwWh(,I-âNxp-(w9(NsD(x,99Dch-âD(HDNE©D-(hgNxWxNh ((- (Ncdh(r(aIhg(,pW((-(,-gNx-âD(w9(x(Nxx(ssD(pw-âDoN\"((g(wE ((g(Ã(-a(pD\"(E(g(chD-NcpxsâD (,-(gNxNxgNxpg(H\"(a-\"(s(W(rca (,-(NsD(W)x ah(w9(NsD(]1Ns(pD-NIc0xBf-()\"(NsD(pw-NhjN(w9(hâp-wW)pg\"(,pW(hj(Wbah\"(Ns)g(,g(IgI(aa\"(hâp-wW)p(pwgN(w\"(chschNx()\"(pE(gg,9xpxNWp-\"(,N(,g(NsD(b©-(aN\"(9pW((-(,-âpWkhâN(pE(gg,9xpxNWp-(w9((-(hj(Wbahe()\"((pNI(c,(a(gp)h-âD\"(,N(,g(IgD (,-((-(,-gIc(-âD(pw-NhjN(Nw(Wpxha(-D-D9xNg(-(xx(w)Dc(bchW)IWg\"(-(cNxpIa(ca\"(g,-âD(NsD(Ew\"Wg(w9(H(c(a (yW(WWCc(,-(NsD(,C]1geBBh()\"(woNxWxa(pw-NcpE(NsD(apgg(,g(NsD(b©-(aN\"(9pW(,xxa)-s(Nw((ps)hr©(((xhg,Wh (r(aIhe()\"(,x-(-â)(a(c,gW(W(-(sDWh-N(NsD(,I-âNxp-(,g(W(--© (Nw(((Wp-DNxc0(apggeââ)\"(pE(gg,pxa(gNxNxgNxpg,AL-pNs(,chjIh-NxgN(x- (Ix\"Dg,(-yAL((apgg(,I-âNxp-(,g(N\"-)pxaa\"(Nch(Nh ((g(gwWhNs)-s(w9(((Hxp)scpI- (W(NsDW(NWpxa(pw-â©-Nxp-0(yW,Nxpg(gIâs((g(r0(x E(cxg(1hW)-s((- (©xgg,W(©,pswE(g(s(ah-(s()D((cCdh (Ns(N(apgg(,I-âNxp-g(chjI,Wh(WIps(sch(Nhc((NNh-Nxp-(Ns(-(NsD\"(s()D(Nc( ,Nxp-(aa\"(HDD-(sxr©-((- (Ns(N(apgg(,I-âNxp-g(IgD (,-(\"h(a(Ew\"a (xhâ)g,p-(W(WW-s(\"DD (Nw(\"h9ahâN(xpNI(a(hW-)W,pxa(hj-©c,h-âDe(ssD\"((cCdh(Ns(N(ch(atEw\"a (apgg(,I-âNxp-g((ch(w9Nh-(rDc0(x,99Dch-N(,cpW(NsD(gWppNs\"(g\"WWhNc,p(w-Dg(IgD (H\"(pE(gg,pxa(pw-â©-Nxp-\"((- ((ch(w9Nh-(s)Esa\"((g\"WWhNc,p\"(\"w-a)-D(c\"((- (x\n"
     ]
    },
    {
     "name": "stderr",
     "output_type": "stream",
     "text": [
      "\r",
      " 80%|██████████████████████████████████████████████████████████████████▍                | 8/10 [00:06<00:01,  1.33it/s]"
     ]
    },
    {
     "name": "stdout",
     "output_type": "stream",
     "text": [
      "loss at epoch  8  is  4.02495562317\n",
      "Wgpw-Nx-dpIgeW)\"(W(NsDW(NWpxa(woNxW)jxNxp-\"(gNxNxgNxpg\"(hâp-wWhNc,pg\"(xhâ)g,p-(NsDwW0\"(W(ps)-D(ah(c-W-s((- (pwW-INxNxp-(a(\"DIcpgp)h-âD\"(((apgg(,I-âNxp-(wW(pwgN(,I-âNxp-(,g(((9I-âNxp-(Ns(N(W(-g((-(hr©-N(wW(r(aIhg(w9(w-D(wW(WpWh(r(c,(-Ehg(w-Nw(((ch(a(\"dW-Dc(,-NI,Nxr©a\"(chbchgD-Nx-s(gwWh(]ppgN]((ggwp)(Nh (ExNs(NsD(hr©-Nx(a-(woNxW)jxNxp-(-cpHEhW(gDDWg(Nw(W)-zW)jh(((apgg(,I-âNxp-0(a-(wHwhâNxr©(,I-âNxp-(,g(hDNsDc(((apgg(,I-âNxp-(wW(,Ng(-Ds(Nxr©(B,-(g-©â)9xp(xpW(x-g\"(r(c,pIgE\"(pxaah (((chE(cx(,I-âNxp-\"(((bcp9xN(,I-âNxp-\"(((INWa)N\"(9I-âNxp-\"(((9xN-Dgg(,I-âNxp-\"(hNpx9\"(,-(Es)ps(pxgD(,N(,g(Nw(-D(W(j)W)jh xââ)\"(gNxNxgNxpg\"(N\"-)pxaa\"(((apgg(,I-âNxp-(,g(IgD (,pW(b(c(WhNhc(hgNxWxNWp-\"((- (NsD(hr©-N(,-(hIhgNxp-(,g(gwWh(,I-âNxp-(w9(NsD(x,99Dch-âD(HDNE©D-(hgNxWxNh ((- (Ncdh(r(aIhg(,pW((-(,-gNx-âD(w9(x(Nxx(ssD(pw-âDoN\"((g(wE ((g(Ã(-a(pD\"(E(g(chD-NcpxsâD (,-(gNxNxgNxpg(H\"(a-\"(s(W(rca (,-(NsD(W)x ah(w9(NsD(]1Ns(pD-NIc0xBf-()\"(NsD(pw-NhjN(w9(hâp-wW)pg\"(,pW(hj(Wbah\"(Ns)g(,g(IgI(aa\"(hâp-wW)p(pwgN(w\"(chschNx()\"(pE(gg,9xpxNWp-\"(,N(,g(NsD(b©-(aN\"(9pW((-(,-âpWkhâN(pE(gg,9xpxNWp-(w9((-(hj(Wbahe()\"((pNI(c,(a(gp)h-âD\"(,N(,g(IgD (,-((-(,-gIc(-âD(pw-NhjN(Nw(Wpxha(-D-D9xNg(-(xx(w)Dc(bchW)IWg\"(-(cNxpIa(ca\"(g,-âD(NsD(Ew\"Wg(w9(H(c(a (yW(WWCc(,-(NsD(,C]1geBBh()\"(woNxWxa(pw-NcpE(NsD(apgg(,g(NsD(b©-(aN\"(9pW(,xxa)-s(Nw((ps)hr©(((xhg,Wh (r(aIhe()\"(,x-(-â)(a(c,gW(W(-(sDWh-N(NsD(,I-âNxp-(,g(W(--© (Nw(((Wp-DNxc0(apggeââ)\"(pE(gg,pxa(gNxNxgNxpg,AL-pNs(,chjIh-NxgN(x- (Ix\"Dg,(-yAL((apgg(,I-âNxp-(,g(N\"-)pxaa\"(Nch(Nh ((g(gwWhNs)-s(w9(((Hxp)scpI- (W(NsDW(NWpxa(pw-â©-Nxp-0(yW,Nxpg(gIâs((g(r0(x E(cxg(1hW)-s((- (©xgg,W(©,pswE(g(s(ah-(s()D((cCdh (Ns(N(apgg(,I-âNxp-g(chjI,Wh(WIps(sch(Nhc((NNh-Nxp-(Ns(-(NsD\"(s()D(Nc( ,Nxp-(aa\"(HDD-(sxr©-((- (Ns(N(apgg(,I-âNxp-g(IgD (,-(\"h(a(Ew\"a (xhâ)g,p-(W(WW-s(\"DD (Nw(\"h9ahâN(xpNI(a(hW-)W,pxa(hj-©c,h-âDe(ssD\"((cCdh(Ns(N(ch(atEw\"a (apgg(,I-âNxp-g((ch(w9Nh-(rDc0(x,99Dch-N(,cpW(NsD(gWppNs\"(g\"WWhNc,p(w-Dg(IgD (H\"(pE(gg,pxa(pw-â©-Nxp-\"((- ((ch(w9Nh-(s)Esa\"((g\"WWhNc,p\"(\"w-a)-D(c\"((- (x\n"
     ]
    },
    {
     "name": "stderr",
     "output_type": "stream",
     "text": [
      "\r",
      " 90%|██████████████████████████████████████████████████████████████████████████▋        | 9/10 [00:06<00:00,  1.31it/s]"
     ]
    },
    {
     "name": "stdout",
     "output_type": "stream",
     "text": [
      "loss at epoch  9  is  4.02495561459\n",
      "Wgpw-Nx-dpIgeW)\"(W(NsDW(NWpxa(woNxW)jxNxp-\"(gNxNxgNxpg\"(hâp-wWhNc,pg\"(xhâ)g,p-(NsDwW0\"(W(ps)-D(ah(c-W-s((- (pwW-INxNxp-(a(\"DIcpgp)h-âD\"(((apgg(,I-âNxp-(wW(pwgN(,I-âNxp-(,g(((9I-âNxp-(Ns(N(W(-g((-(hr©-N(wW(r(aIhg(w9(w-D(wW(WpWh(r(c,(-Ehg(w-Nw(((ch(a(\"dW-Dc(,-NI,Nxr©a\"(chbchgD-Nx-s(gwWh(]ppgN]((ggwp)(Nh (ExNs(NsD(hr©-Nx(a-(woNxW)jxNxp-(-cpHEhW(gDDWg(Nw(W)-zW)jh(((apgg(,I-âNxp-0(a-(wHwhâNxr©(,I-âNxp-(,g(hDNsDc(((apgg(,I-âNxp-(wW(,Ng(-Ds(Nxr©(B,-(g-©â)9xp(xpW(x-g\"(r(c,pIgE\"(pxaah (((chE(cx(,I-âNxp-\"(((bcp9xN(,I-âNxp-\"(((INWa)N\"(9I-âNxp-\"(((9xN-Dgg(,I-âNxp-\"(hNpx9\"(,-(Es)ps(pxgD(,N(,g(Nw(-D(W(j)W)jh xââ)\"(gNxNxgNxpg\"(N\"-)pxaa\"(((apgg(,I-âNxp-(,g(IgD (,pW(b(c(WhNhc(hgNxWxNWp-\"((- (NsD(hr©-N(,-(hIhgNxp-(,g(gwWh(,I-âNxp-(w9(NsD(x,99Dch-âD(HDNE©D-(hgNxWxNh ((- (Ncdh(r(aIhg(,pW((-(,-gNx-âD(w9(x(Nxx(ssD(pw-âDoN\"((g(wE ((g(Ã(-a(pD\"(E(g(chD-NcpxsâD (,-(gNxNxgNxpg(H\"(a-\"(s(W(rca (,-(NsD(W)x ah(w9(NsD(]1Ns(pD-NIc0xBf-()\"(NsD(pw-NhjN(w9(hâp-wW)pg\"(,pW(hj(Wbah\"(Ns)g(,g(IgI(aa\"(hâp-wW)p(pwgN(w\"(chschNx()\"(pE(gg,9xpxNWp-\"(,N(,g(NsD(b©-(aN\"(9pW((-(,-âpWkhâN(pE(gg,9xpxNWp-(w9((-(hj(Wbahe()\"((pNI(c,(a(gp)h-âD\"(,N(,g(IgD (,-((-(,-gIc(-âD(pw-NhjN(Nw(Wpxha(-D-D9xNg(-(xx(w)Dc(bchW)IWg\"(-(cNxpIa(ca\"(g,-âD(NsD(Ew\"Wg(w9(H(c(a (yW(WWCc(,-(NsD(,C]1geBBh()\"(woNxWxa(pw-NcpE(NsD(apgg(,g(NsD(b©-(aN\"(9pW(,xxa)-s(Nw((ps)hr©(((xhg,Wh (r(aIhe()\"(,x-(-â)(a(c,gW(W(-(sDWh-N(NsD(,I-âNxp-(,g(W(--© (Nw(((Wp-DNxc0(apggeââ)\"(pE(gg,pxa(gNxNxgNxpg,AL-pNs(,chjIh-NxgN(x- (Ix\"Dg,(-yAL((apgg(,I-âNxp-(,g(N\"-)pxaa\"(Nch(Nh ((g(gwWhNs)-s(w9(((Hxp)scpI- (W(NsDW(NWpxa(pw-â©-Nxp-0(yW,Nxpg(gIâs((g(r0(x E(cxg(1hW)-s((- (©xgg,W(©,pswE(g(s(ah-(s()D((cCdh (Ns(N(apgg(,I-âNxp-g(chjI,Wh(WIps(sch(Nhc((NNh-Nxp-(Ns(-(NsD\"(s()D(Nc( ,Nxp-(aa\"(HDD-(sxr©-((- (Ns(N(apgg(,I-âNxp-g(IgD (,-(\"h(a(Ew\"a (xhâ)g,p-(W(WW-s(\"DD (Nw(\"h9ahâN(xpNI(a(hW-)W,pxa(hj-©c,h-âDe(ssD\"((cCdh(Ns(N(ch(atEw\"a (apgg(,I-âNxp-g((ch(w9Nh-(rDc0(x,99Dch-N(,cpW(NsD(gWppNs\"(g\"WWhNc,p(w-Dg(IgD (H\"(pE(gg,pxa(pw-â©-Nxp-\"((- ((ch(w9Nh-(s)Esa\"((g\"WWhNc,p\"(\"w-a)-D(c\"((- (x\n"
     ]
    },
    {
     "name": "stderr",
     "output_type": "stream",
     "text": [
      "100%|██████████████████████████████████████████████████████████████████████████████████| 10/10 [00:07<00:00,  1.30it/s]\n"
     ]
    }
   ],
   "source": [
    "# initializing hidden state and squared gradient\n",
    "ht = [np.zeros((hidden_size, 1))]\n",
    "grad_squared_xh, grad_squared_hh, grad_squared_hy = np.zeros_like(Wxh), np.zeros_like(Whh), np.zeros_like(Why)\n",
    "\n",
    "loss = 0\n",
    "for e in tqdm(range(epochs)):\n",
    "    for steps in range(0, len(X), seq_size):\n",
    "        inputs = X[steps:steps+seq_size]\n",
    "        targets = y[steps:steps+seq_size]\n",
    "\n",
    "        # forward and backward pass\n",
    "        ht, pt, loss = forward_pass(inputs, ht)\n",
    "        dWhh, dWxh, dWhy = backward_pass(inputs, inputs, ht, pt)\n",
    "        \n",
    "        # adagrad\n",
    "        grad_squared_xh += dWxh ** 2\n",
    "        grad_squared_hh += dWhh ** 2\n",
    "        grad_squared_hy += dWhy ** 2\n",
    "        \n",
    "        # parameter update\n",
    "        Wxh -= dWxh / np.sqrt(grad_squared_xh + 1e-7) * learning_rate\n",
    "        Whh -= dWhh / np.sqrt(grad_squared_hh + 1e-7) * learning_rate\n",
    "        Why -= dWhy / np.sqrt(grad_squared_hy + 1e-7) * learning_rate\n",
    "    print('loss at epoch ', e, ' is ', loss)\n",
    "    print(predict(X, Wxh, Whh, Why, ht))"
   ]
  },
  {
   "cell_type": "markdown",
   "metadata": {},
   "source": []
  }
 ],
 "metadata": {
  "kernelspec": {
   "display_name": "Python 3",
   "language": "python",
   "name": "python3"
  },
  "language_info": {
   "codemirror_mode": {
    "name": "ipython",
    "version": 3
   },
   "file_extension": ".py",
   "mimetype": "text/x-python",
   "name": "python",
   "nbconvert_exporter": "python",
   "pygments_lexer": "ipython3",
   "version": "3.6.3"
  },
  "toc": {
   "base_numbering": 1,
   "nav_menu": {},
   "number_sections": true,
   "sideBar": true,
   "skip_h1_title": true,
   "title_cell": "Table of Contents",
   "title_sidebar": "Contents",
   "toc_cell": false,
   "toc_position": {},
   "toc_section_display": true,
   "toc_window_display": false
  }
 },
 "nbformat": 4,
 "nbformat_minor": 2
}
