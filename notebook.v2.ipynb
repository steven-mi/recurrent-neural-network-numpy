{
 "cells": [
  {
   "cell_type": "markdown",
   "metadata": {},
   "source": [
    "# Recurrent neural network with numpy"
   ]
  },
  {
   "cell_type": "markdown",
   "metadata": {},
   "source": [
    "## Prerequisite"
   ]
  },
  {
   "cell_type": "code",
   "execution_count": 1,
   "metadata": {
    "collapsed": true
   },
   "outputs": [],
   "source": [
    "# some important imports\n",
    "import numpy as np\n",
    "from translator import Translator\n",
    "from tqdm import tqdm"
   ]
  },
  {
   "cell_type": "markdown",
   "metadata": {},
   "source": [
    "## Encoding text"
   ]
  },
  {
   "cell_type": "code",
   "execution_count": 2,
   "metadata": {},
   "outputs": [
    {
     "name": "stdout",
     "output_type": "stream",
     "text": [
      "text is  1993 long and has  56\n",
      "first 10 datas:  [51 18 46 15  4 43 32 21 15  4]\n",
      "first 10 labels:  [18 46 15  4 43 32 21 15  4 43]\n"
     ]
    }
   ],
   "source": [
    "# data\n",
    "text = open('data/toy.txt', 'r').read()\n",
    "\n",
    "# text = 'Hallo'\n",
    "text_length = len(text)\n",
    "chars = list(set(text))\n",
    "char_length = len(chars)\n",
    "print('text is ', text_length, 'long and has ', char_length)\n",
    "\n",
    "# creating training data\n",
    "char_to_int = dict((c, i) for i, c in enumerate(chars))\n",
    "int_to_char = dict((i, c) for i, c in enumerate(chars))\n",
    "\n",
    "X = np.array([char_to_int[char] for char in text])\n",
    "y = np.append(X[1:X.shape[0]], X[0])\n",
    "print('first 10 datas: ', X[0:10])\n",
    "print('first 10 labels: ', y[0:10])"
   ]
  },
  {
   "cell_type": "markdown",
   "metadata": {},
   "source": [
    "## Forward pass\n"
   ]
  },
  {
   "cell_type": "code",
   "execution_count": 3,
   "metadata": {
    "collapsed": true
   },
   "outputs": [],
   "source": [
    "def forward_pass(X, hprev):\n",
    "    ht, pt, loss = [hprev[0]], [], 0\n",
    "    for t in range(len(X)):\n",
    "        # creating a one hot encoded vector\n",
    "        xt = np.zeros((char_length, 1))\n",
    "        xt[X[t]] = 1\n",
    "\n",
    "        # calculating forward pass\n",
    "        zt = np.dot(Wxh, xt) + np.dot(Whh, ht[t])\n",
    "        ht.append(np.tanh(zt))\n",
    "        yt = np.dot(Why, ht[t])\n",
    "\n",
    "        # getting probability distribution\n",
    "        pt.append(np.exp(yt) / np.sum(np.exp(yt)))\n",
    "\n",
    "        # summing up the loss of every output\n",
    "        loss += -np.sum(np.log(pt[t][X[t]]))\n",
    "    return ht, pt, loss / len(X)"
   ]
  },
  {
   "cell_type": "markdown",
   "metadata": {},
   "source": [
    "## Backward pass"
   ]
  },
  {
   "cell_type": "code",
   "execution_count": 4,
   "metadata": {
    "collapsed": true
   },
   "outputs": [],
   "source": [
    "def backward_pass(X, y, ht, pt):\n",
    "    dWhh, dWxh, dWhy = np.zeros_like(Whh), np.zeros_like(Wxh), np.zeros_like(Why)\n",
    "    for t in reversed(range(len(X))):\n",
    "        # gradient of Why\n",
    "        dout = pt.copy()\n",
    "        dout[t][y[t]] -= 1\n",
    "        dWhy += np.dot(dout[t], ht[t].T)\n",
    "\n",
    "        # starting to calculate the gradient of Whh and Wxh\n",
    "        dh = np.dot(Why.T, dout[t])\n",
    "\n",
    "        xt = np.zeros((char_length, 1))\n",
    "        xt[X[t]] = 1\n",
    "\n",
    "        dzhh = np.dot(1 - ht[t] * ht[t], ht[t - 1].T)\n",
    "        dzxh = np.dot(1 - ht[t] * ht[t], xt.T)\n",
    "        for k in range(t - 1):\n",
    "            temp = np.dot(Whh, 1 - ht[k] * ht[k])\n",
    "            for j in range(k - 1):\n",
    "                temp *= np.dot(Whh, 1 - ht[j] * ht[j])\n",
    "            xk = np.zeros((char_length, 1))\n",
    "            xk[X[k]] = 1\n",
    "\n",
    "            dzhh += np.dot(temp, ht[k - 1].T)\n",
    "            dzxh += np.dot(temp, xk.T)\n",
    "\n",
    "        dWxh = dh * dzxh\n",
    "        dWhh = dh * dzhh\n",
    "\n",
    "    dWhh /= len(X)\n",
    "    dWxh /= len(X)\n",
    "    dWhy /= len(X)\n",
    "    # gradient clipping\n",
    "    for dparam in [dWxh, dWhh, dWhy]:\n",
    "        np.clip(dparam, -5, 5, out=dparam)\n",
    "    return dWhh, dWxh, dWhy\n"
   ]
  },
  {
   "cell_type": "markdown",
   "metadata": {},
   "source": [
    "## Predict function"
   ]
  },
  {
   "cell_type": "code",
   "execution_count": 5,
   "metadata": {
    "collapsed": true
   },
   "outputs": [],
   "source": [
    "def predict(X, Wxh, Whh, Why, hprev):\n",
    "    ht, prediction = [hprev[0]], ''\n",
    "    for t in range(len(X)):\n",
    "        # creating a one hot encoded vector\n",
    "        xt = np.zeros((char_length, 1))\n",
    "        xt[X[t]] = 1\n",
    "\n",
    "        # calculating forward pass\n",
    "        zt = np.dot(Wxh, xt) + np.dot(Whh, ht[t])\n",
    "        ht.append(np.tanh(zt))\n",
    "        yt = np.dot(Why, ht[t])\n",
    "\n",
    "        # getting probability distribution\n",
    "        pt.append(np.exp(yt) / np.sum(np.exp(yt)))\n",
    "\n",
    "        # creating a prediction string\n",
    "        prediction += chars[np.argmax(pt[t])]\n",
    "    return prediction"
   ]
  },
  {
   "cell_type": "markdown",
   "metadata": {},
   "source": [
    "## Updating parameter with adagrad"
   ]
  },
  {
   "cell_type": "markdown",
   "metadata": {},
   "source": [
    "### Intizializing hyperparameter"
   ]
  },
  {
   "cell_type": "code",
   "execution_count": 6,
   "metadata": {},
   "outputs": [
    {
     "name": "stdout",
     "output_type": "stream",
     "text": [
      "Training  100  epochs with a sequence size of  15 , a hidden size of  200  and a learning rate of 0.0001\n"
     ]
    }
   ],
   "source": [
    "seq_size = 15\n",
    "hidden_size = 200\n",
    "learning_rate = 1e-4\n",
    "epochs = 100\n",
    "\n",
    "print('Training ', epochs, ' epochs with a sequence size of ', seq_size, ', a hidden size of ', hidden_size, ' and a learning rate of', learning_rate)"
   ]
  },
  {
   "cell_type": "markdown",
   "metadata": {},
   "source": [
    "### Initizializing learnable parameter"
   ]
  },
  {
   "cell_type": "code",
   "execution_count": 7,
   "metadata": {
    "collapsed": true
   },
   "outputs": [],
   "source": [
    "Wxh = np.random.randn(hidden_size, char_length) * 0.01\n",
    "Whh = np.random.randn(hidden_size, hidden_size) * 0.01\n",
    "Why = np.random.randn(char_length, hidden_size) * 0.01"
   ]
  },
  {
   "cell_type": "code",
   "execution_count": 8,
   "metadata": {
    "scrolled": true
   },
   "outputs": [
    {
     "name": "stderr",
     "output_type": "stream",
     "text": [
      "\r",
      "  0%|                                                                                          | 0/100 [00:00<?, ?it/s]"
     ]
    },
    {
     "name": "stdout",
     "output_type": "stream",
     "text": [
      "loss at epoch  0  is  4.02519072739\n",
      "rsNvchacEvfswr)c (Itc hItaNIb vBtaha Itavcv hhItahtaNsv  Nvc”( h2aNsv z Nahavc tc v2”v (INccc  b I2(acHcIcz Nv(iftItavcIb c E2vhNa (N , I b”ss 0EcNtavc v2 Nvsh 0EcNtavc ah I 0EcNtavc tcIt (Iia Ic  .-(h v2 .IbE h v0cvc  v2 (v2  .I2aIlb h vchv I 2 Ib cE(l 2 achfaha. b” 2 i2 h (hacHcav(  WNvshWcIasvNaIt z kchc tc   .-(hw Cc vBtaha Itavc i2vlb ( h -as tv (acaha   I b”ss 0EcNtavcw Cc vlT Nta.  0EcNtavc ah  ahc 2 I b”ss 0EcNtavc v2 ahs c HIta.  lac hi Na0aN zv(Iacs, .I2avfsb” NIbb z I 2 kI2z 0EcNtavcv I i2v0ah 0EcNtavcv I Etabah” 0EcNtavcv I 0ahc hs 0EcNtavcv  hNwmv ac kccNc NIa  ah ah tv l  (INaha  zwbbL( hhItahtaNsv t”BaNIbb” I b”ss 0EcNtavc ah Es z 0v2 iI2I( h 2  hhahItavcv Icz tc   .-(h ac \"f hhavc ah hv(  0EcNtavc v0ctc  za00 2 cN  l hk -c  hhahIt z Icz t2f  .IbE h 0v2 Ic acshIcN  v0czItIx vH  NvcN itv Ia vbz Ia âIibIN , kIa 2 ach2vzfN z ac hhItahtaNs lH Cl2IcI( vIbz ac tc  (azzb  v0ctc  iNtc N (hf2”wzoo L( tc  Nvch Nh v0c Nvc”(aNsv 0v2  NI(ib , tcch ah EsEIbb”  Nvc”(aN Nvsh v2 2 H2 hwcL( NbIasa0aNItavcv ah ah tc  i (Ib)” 0v2 Ic acNv22 Nt NbIasa0aNItavc v0cIc  NI(ib w L( INtfI2aIb hNa (N , ah ah Es z ac Ic acsE2IcN  Nvch Nh tv (vz b l ( 0ahs iIaz v. 2 i2 haC(hv iI2haNfbI2b” hacN  tc  kv2as v0cjI2Ibz e2I(pt2 ac tc  o©iNswzio L( vBtahIb Nvch2vb tc  b”ss ah tc  i (Ib)” 0v2 0IabacHctv INcc .- I z ha2 z .IbE wcL( 0acIcNaIb 2aha (IcIH h (h tc  0EcNtavc ah (Iii z tv I (vc hI2” b”sswbbL( NbIasaNIb hhItahtaNsmH[lvhc 02 \"f chaht Icz sI” haIcmH[I b”ss 0EcNtavc ah t”BaNIbb” t2 It z Ia hv( hcccHcv0cI lINaH2vfcz (Itc hItaNIb Nvc. (havcw e2ahaNs hENc Ia vw WzAI2zs r hacHcIcz  Iasah  aNcvbIa vIb l cI.  I2Hf z tcIt b”ss 0EcNtavcs 2 \"fc2  (ENc H2 It 2 Itt (havc tcIc tc ” cI.  t2IzahavcIbb” l -c Hc. c Icz tcIt b”ss 0EcNtavcs Es z ac 2 Ib kv2cz z Nahavc (IaacHcc -z tv 2 0b Nt INtfIb  hia2aNIb  Ni 2a (N wcvH ” I2Hf  tcIt 2 Ib]kv2cz b”ss 0EcNtavcs I2  v0t ( . 2” za00 2 ch 02v( tc  h(vvhcv h”(h h2aN vc h Es z lH NbIasaNIb Nvc. (havcv Icz I2  v0t ( ccHcb” Ia”(h h2aN, c”cbac I2v Icz z\n"
     ]
    },
    {
     "name": "stderr",
     "output_type": "stream",
     "text": [
      " 10%|████████                                                                         | 10/100 [00:27<04:03,  2.70s/it]"
     ]
    },
    {
     "name": "stdout",
     "output_type": "stream",
     "text": [
      "loss at epoch  10  is  4.02365313442\n",
      "rsNvchccnvnswrnc hthc hthnotc vBhnhc[thnvc, shthnshnos,  Nvcvh h cos, d Nnstvc tc v ”, htNccc  c t cncH tcd Nvhintthnvctc c n vsNn co , t cvss uncNhnvc v  Nvsh uncNhnvc ns t uncNhnvc tcth atis tc  . ch v  .tcn s vu vc  v  hv   .t ctlc s vchv t   tc cnel   tchnchn. c”   i  s chncH svh  cNvshc tssvNntt d kchc tc   . chw Cc vBhnhc[thnvc l vlc h s  as tv hccnhc[  t cvss uncNhnvcw Cc vlT Nhn.  uncNhnvc ns  chc   t cvss uncNhnvc v  ths c kthn.  lcc si Nnoto dvhtccs, .t cvnsc” Ntcb d t   kt z uncNhnvc, t l vuch uncNhnvc, t nhncnh” uncNhnvc, t uchc ss uncNhnvc,  hNwm, tc kccoc Nts  th ts tv l  ht nhc[ dwbbnc shthnshnos, t”inotcb” t cvss uncNhnvc ns ns d uv  lt ta h    shnhthnvc, tcd tc   . ch tc \"n shnvc ns svh  uncNhnvc vu tc  dcou   co  l hk  c  shnhth d tcd t n  .tcn s uv  tc ncshtco  vu dthtx vc  Nvco ih, ts vcz ts xtictN , kts   cch vznN d tc shthnshnos l” Cl tcta vtcz tc tc  hcdzc  vu tc  iNhc N chn ”wzoo nc tc  Nvch  h vu  Nvcvhcos, uv    taic , tccs ts nsntcb”  Nvcvhco Nvsh v    H  hw nc Nctsstotothnvc, th ts tc  l ctch” uv  tc ncNv   Nh Nctsstotothnvc vu tc   taic w nc tNhnt ctc sNn co , th ts ns d tc tc ncsn tco  Nvch  h tv hvz c l c uchs ltcd v.   l  hcnes, lt hnonbt c” stcN  tc  kv as vu lt tcz e tapt  tc tc  oHiNswzio nc vBhnhtc Nvch vc tc  cvss ts tc  l ctch” uv  utccncH tv tNcc .  t d st  z .tcn w nc ucctcontc  csa htctH h ch tc  uncNhnvc ns atii d tv t avc ht ” cvsswbbnc Nctsstotc shthnshnos€H[lvhc u  \"n chnsh tcd 9t” sttc€H[t cvss uncNhnvc ns t”inotcb” t  th d ts svh hcccH vu t ltNaH vncd athc hthnotc Nvc. chnvcw e chnos snNc ts vw rdAt zs r hccH tcd  tssth  nocvcts vtc l ct.  t Hn z tcth cvss uncNhnvcs   \"nc   hnNc H  th   tht chnvc tctc tc ” ct.  t tdchnvctcb” l  c Hc. c tcd tcth cvss uncNhnvcs ns d tc   tc kv cz d Nnstvc htancH c  d tv   uc Nh tNhntc  hin cotc   l  c co w vc ” t Hn  tcth   tc]\n",
      "v cz cvss uncNhnvcs t   vut c .  ” dcou   ch u vh tc  shvvhc, s”hh h co vc s ns d l” Nctsstotc Nvc. chnvc, tcd t   vut c ccHcc” ts”hh h co, cvccnc t , tcd d\n"
     ]
    },
    {
     "name": "stderr",
     "output_type": "stream",
     "text": [
      " 20%|████████████████▏                                                                | 20/100 [00:55<03:40,  2.76s/it]"
     ]
    },
    {
     "name": "stdout",
     "output_type": "stream",
     "text": [
      "loss at epoch  20  is  4.02245084677\n",
      "rstmchccnvnswrnc attc attnotc nlhnatzttnnc, shttnshnos,  omcva h cos, d onstnc tc f ”, atoacc  c t cncH tcd toaintttnnctc c n fson co , t cfss uncotnnc n  tmsh uncotnnc ts t uncotnnc tctt atis tc  e ch n  vtcn s nu nc  n  av   vt ctlc s nchv t   tc cnel   tctnchnv c”   p  s chncH sma  comshc tssmontt d knhc tc   e chw Cc nlhnatzttnnc l flc e s  as tv atcnatz  t cfss uncotnncw Cc nlT otnv  uncotnnc ts  thc   t cfss uncotnnc n  ths c kttnv   cc sp onuto dmatccs, vt cfnsc” ttcc d t   kt d uncotnnc, t l futh uncotnnc, t ntncnh” uncotnnc, t uthc ss uncotnnc,  howm, tc Accoc tts  th ts tv l  at natz dwbunc shttnshnos, t”inotcc” t cfss uncotnnc ts ns d uv  lt ta h    shnattnnc, tcd tc   e ch tc \"n shnnc ts sma  uncotnnc nu tc  dcuu   co  l hk  c  shnatt d tcd t n  vtcn s uv  tc tcshtco  nu dtttx vc  tmco ph, ts ncd ts nticto , kts   tct fdno d tc shttnshnos l” Cl tcta  tcd tc tc  atddc  nu tc  i)hc t chn ”wzoo nc tc  tmch  h nu  omcvacos, uv    talc , tccs ts nsntcc”  omcvaco tmsh n    k  hw nc tctsstutottnnc, th ts tc  l ctch” uv  tc tcoo r ot tctsstutottnnc nu tc   talc w nc totnt ctc son co , th ts ns d tc tc tcsn tco  tmch  h tv avd c l c uths ltcd nv   l  acnes, lt tnonct c” stco  tc  kv as nu lt tcd e tapt  tc tc  oHi)swzio nc nlhnatc tmch fc tc  cfss ts tc  l ctch” uv  utccncH tv toac e  t d st  d atcn w nc utctcontc  csa atctH a ch tc  uncotnnc ts atil d tv t avc ht ” cfsswbunc tctsstotc shttnshnos€H[lvhc u  \"n chnsh tcd 9t” sttc€H[t cfss uncotnnc ts t”inotcc” t  tt d ts sma hcccH nu t ltoakrfncd attc attnotc tmcv chnncw e chnos snoc ts  w adAt ds r accH tcd  tssta  nocfcts vtc l ctv  t rn d tctt cfss uncotnncs   \"nc   anoc r  tt   ttt chnnc tctc tc ” ctv  t tdchnnctcc” l  c rcv c tcd tctt cfss uncotnncs ns d tc   tc Av cd d onstnc atancH c  d tv   uc ot totntc  eln cotc   p  c co w vc ” t rn  tctt   tc]\n",
      "v cd cfss uncotnncs t   nut c v  ” dcuu   ch u fa tc  savvhc, s”aa h co nc s ns d l” tctsstotc tmcv chnnc, tcd t   nut c ccncc” ts”aa h co, cvccnc t , tcd d\n"
     ]
    },
    {
     "name": "stderr",
     "output_type": "stream",
     "text": [
      " 30%|████████████████████████▎                                                        | 30/100 [01:28<03:26,  2.95s/it]"
     ]
    },
    {
     "name": "stdout",
     "output_type": "stream",
     "text": [
      "loss at epoch  30  is  4.0211240073\n",
      "rstocttcnnnstrnc atte attnotc nltnatzttnnc  stttnstnos   tocna t tos    tnstnc te n ”, atoatc  c t ctcn tcd toapntttnnctc c n fstn co   t cnss uncotnnc n  tnst uncotnnc ts t uncotnnc tett atis tc  e ct n   tcn s nu nc  n  an   at ttll s nctn t   tc cnel   tctnntne c”   p  s ctncn sna  coostc tssnontt d tnte te   e ctt tc nltnatzttnnc l fll a s  as tn atctatz  t cnss uncotnncw tc nlT ttne  uncotnnc ts  tte   t cnss uncotnnc n  tts c nttne   cc sp tnoto  matccs   t tnnsc” ttcl d t   kt d uncotnnc  t l futt uncotnnc  t ntncnte uncotnnc  t uttc ss uncotnnc   totm, tc tctoa tts  tt ts tn l  at natz dw\n",
      "\n",
      "nc stttnstnos  tepnotcl” t cnss uncotnnc ts ns d un  lt ta t    stnattnnc  tcd te   e ct tc an stnnc ts sna  uncotnnc nu te   cou   co  l t\n",
      "  c  stnatt d tcd t n  atcn s un  tc tcsttco  nu  tttt oh  tnco pt  ts ncd ts nticto   tts   tct f no d tc stttnstnos l” tl tata  tcd tc te  atddc  nu te  iete t ctn ”\n",
      "zoo nc te  tnct  t nu  tocnatos  un    talc   tets ts nsntcl”  tocnato tost n    n  tt nc tltsstotottnnc  tt ts te  l ctcte un  tc tcoo r tt tltsstotottnnc nu tc   talc t nc totnt ttc stn co   tt ts ns d tc tc tcsn tco  tnct  t tn and c l c utts lttd nv   l  atnes  lt tnonlt c” stco  te  tn as nu  t tcd e tapt  tc te  oHi)stzio nc nltnatc tnct fc te  cnss ts te  l ctcte un  uttcncn tn toat e  t   st  d atcn t nc utctcontc  tsa atctr a ct te  uncotnnc ts atip d tn t anc tt ” cnsst\n",
      "\n",
      "nc tltsstotc stttnstnos€Hblnte u  \"n ctnst tcd Ãt” sttc€Hbt cnss uncotnnc ts tepnotcl” t  tt d ts sna tetcn nu t ltoakrfncd atte attnotc tncv ctnncw e ttnos snoa ts  w adAt ds r atcn tcd  tssta  noafcts otc l atv  t rn d tett cnss uncotnncs   \"nn   anoa r  tt   ttt ctnnc tetc te e atv  t tdctnnctcl” l  c rce c tcd tett cnss uncotnncs ns d tc   tc tn cd   tnstnc atancn c  d tn   uc tt totntc  aln totc   p  t co t oh e t rn  tett   tc]\n",
      "n cd cnss uncotnncs t   nut c    ”  cou   ct u fa te  sanfhe  seaa t to nc s ns d l” tltsstotc tncv ctnnc  tcd t   nut c atncc” tseaa t to  cnccnc t   tcd  \n"
     ]
    },
    {
     "name": "stderr",
     "output_type": "stream",
     "text": [
      " 40%|████████████████████████████████▍                                                | 40/100 [01:55<02:53,  2.89s/it]"
     ]
    },
    {
     "name": "stdout",
     "output_type": "stream",
     "text": [
      "loss at epoch  40  is  4.01949524534\n",
      "rstocttcnnnstrnc atte atttttc nltnatztttnc  sttttsttts   tocna t tts    ttstnc te n e  attatc    t ctcn tc  toapnttttnctc c n nstt ct   t  nss unctttnc n  tnst tnctttnc ts t tnctttnc tett atis tc  e ct n   tcn s nu nc  n  an    t ttll s nctn t   tc cnal   tctnttte c”   i  s cttcn sna  ctostc tssntttt   ttte te   e ctt tc nltnatztttnc   nll a s  as tn atctatz  t  nss unctttnct tc nlT ttte  unctttnc ts  tte   t  nss unctttnc n  tts c nttte   tc si ttott  nattcs   t tnnsc” ttcl   t   tt   unctttnc  t   nutt tnctttnc  t ntnctte unctttnc  t tttc ss unctttnc   tttm  tc tetta tts  tt ts tn l  at tatz  w\n",
      "\n",
      "nc sttttsttts  tepnttcl” t  nss unctttnc ts ns   un   t ta t    sttatttnc  tc  te   e ct tc an sttnc ts sna  unctttnc nu te   tou   ct  l tt  c  sttatt   tc  t n   tcn s un  tc tcsttct  nu  tttt oh  tnct it  ts nc  ts ntiltt   tts   tct n nt   tc sttttsttts l” tl tata  tc  tc te  at dl  nu te  iete t ctn e\n",
      "zoo nc te  tnct  t nu  tocnatts  un    tall   tets ts nsntcl”  tocnatt tost n    n  tt nc tltsstotttttnc  tt ts te    ctcte un  tc tcto   tt tltsstotttttnc nu tc   tall t nc tttnt ttc stt ct   tt ts ns   tc tc tcsn tct  tnct  t tn an  c l c utts ltt  n       atnas  lt tttnlt c” stct  te  tn as nu  t tc  e tast  tc te  oHiostzio nc nltnatc tnct nc te   nss ts te    ctcte un  uttctcn tn ttat e  t   st     tcn t nc utctctttc  tsa atctn a ct te  unctttnc ts atip   tn t anc tt e  nsst\n",
      "\n",
      "nc tltsstttc sttttsttts€iblnte u  an cttst tc  ste sttc€ibt  nss unctttnc ts tepnttcl” t  tt   ts sna tetcn nu t attakrnnc  atte atttttc tncv cttnct e tttts snta ts  w t At  s   atcn tc   tssta  ttancts otc e ate  t rn   tett  nss unctttncs   ant   anta    tt   ttt cttnc tetc te e ate  t t tttnctcl” l  c  ce c tc  tett  nss unctttncs ns   tc   tc tn c    ttstnc atancn c    tn   uc tt tttntc  aln tttc   p  t ct t oh e t rn  tett   tc \n",
      "n c   nss unctttncs t   nut c    e  tou   ct t na te  sannte  seaa t tt nc s ns   l” tltsstttc tncv cttnc  tc  t   nut c atnal” tseaa t tt  cnccic t   tc   \n"
     ]
    },
    {
     "name": "stderr",
     "output_type": "stream",
     "text": [
      " 50%|████████████████████████████████████████▌                                        | 50/100 [02:18<02:18,  2.76s/it]"
     ]
    },
    {
     "name": "stdout",
     "output_type": "stream",
     "text": [
      "loss at epoch  50  is  4.01731175069\n",
      "rstocttcnnnstrnc atte attttt  n ttatztttnc  sttttsttts   tocna t tts    ttstnc te n e  attatc    t ctcn tc  toainttttnct  c n nstt ct   t  nss tnctttnc n  tost tnctttnc ts t tnctttnc tett atis tc  e ct n   t n s nu nc  n  an    t ttal s nctn t   t  cnal   tctnttte  e   i  s cttcn sna  ttostc tssntttt   ttte te   e ctt tc n ttatztttnc   nll a s  as tn atctatz  t  nss tnctttnct tc n T ttte  tnctttnc ts  tte   t  nss tnctttnc n  tts    ttte   tc s  ttott  nattcs   t tnns e tt l   t   tt   tnctttnc  t   nutt tnctttnc  t ntt tte tnctttnc  t tttc ss tnctttnc   tttt  tc tetta tts  tt ts tn    at tatz  t\n",
      "\n",
      "nc sttttsttts  teintt le t  nss tnctttnc ts ns   tn   t ta t    sttatttnc  tc  te   e ct tc  n sttnc ts sna  tnctttnc nu te   tou   ct    tt  c  sttatt   tc  t n   t n s tn  tc tcsttct  nu  tttt oa  toct it  ts n   ts  tiltt   tts   tct n nt   tc sttttsttts  e tl tata  tc  tc te  at  l  nu te   ete t ctn etzoo nc te  toct  t nu  tocnatts  tn    tail   tets ts nsntcle  tocnatt tost n       tt nc t tsstttttttnc  tt ts te    ct te tn  tc tcto   tt t tsstttttttnc nu tc   tail t nc tttnt tt  stt ct   tt ts ns   tc tc tcsn tct  toct  t tn an      c ttts  tt  n       atnas   t tttnlt ce stct  te  tn as nu  t t   e tant  tc te  oaiostzio nc n ttatc toct n  te   nss ts te    ct te tn  ttt tcn tn ttat e  t   st     t n t nc ttctcttt   tsa atct  a ct te  tnctttnc ts atii   tn t anc tt e  nsst\n",
      "\n",
      "nc t tssttt  sttttsttts iblnte t  an cttst tc   te sttc ibt  nss tnctttnc ts teintt le t  tt   ts sna tetcn nu t  ttar nnc  atte attttt  toce cttnct e tttts snta ts  t t At  s   atcn tc   tssta  ttan ts otc e at   t nn   tett  nss tnctttncs   ant   anta    tt   ttt cttnc tetc te e at   t t tttnct le    c  te c tc  tett  nss tnctttncs ns   tc   t  tn c    ttstnc atatcn c    tn   tc tt tttntc  ain ttt    l  t ct t oa e t nn  tett   t  \n",
      "n c   nss tnctttncs t   nut c    e  tou   ct t na te  sannte  seaa t tt nc s ns   ae t tssttt  toce cttnc  tc  t   nut c atnale tseaa t tt  cncctc t   tc   \n"
     ]
    },
    {
     "name": "stderr",
     "output_type": "stream",
     "text": [
      " 60%|████████████████████████████████████████████████▌                                | 60/100 [02:39<01:46,  2.66s/it]"
     ]
    },
    {
     "name": "stdout",
     "output_type": "stream",
     "text": [
      "loss at epoch  60  is  4.01401582793\n",
      "rsto tt nnnstrnc atte attttt    ttat tttn    ttttsttts   to na t tts    ttstn  te n e  attatc    t ct   t   toainttttn t    n nstt  t   t  nss  nctttn     tost  nctttn  ts t  nctttn  tett  t s t      t     t n s           an    t tt   s   tn t   t   nal   t tnttt   e      s  tt    na  ttostt tssntttt    tte te      tt tc   ttat tttn    n   a    as tn  t tat   t  nss  nctttn t tc   t ttt    nctttn  ts  tte   t  nss  nctttn     tts    ttt    tc    ttttt  natt s   t tnns e tt     t   tt    nctttn   t   n tt  nctttn   t ntt tte  nctttn   t  tt   s  nctttn    tttt  t   etta tts  tt ts tn     t tat   tu\n",
      "nc  ttttsttts  teittt  e t  nss  nctttn  ts ns    n   t ta t     ttttttn   t   te      t t   n sttn  ts  na   nctttn     te   ttt    t    tt      ttttt   t   t n   t n s  n  t  t stt t      tttt oa  to t  t  ts     ts  t  tt    ts   t t n nt   t   ttttsttts  e t  tata  t   t  te   t        te   tte t  tn etcoo nc te  to t  t     to natts   n    tai    tets ts nsnt  e  to natt tost         tt nc t tsstttttttn   tt ts te     t te  n  t  t to   tt t tsstttttttn     t    tai  t nc tttnt tt   tt  t   tt ts ns   t  t  t sn tct  to t  t tn  n        ttts  tt          atnas   t tttn t  e  t t  te   n as     t t     ta t  t  te   tiostcio nc   ttat  to t n  te   nss ts te     t te  n   tt tc  tn ttat    t   st     t n t nc  t t ttt   tsa atct  a  t te   nctttn  ts  t n   tn t  n  tt e  nsstuunc t tssttt   ttttsttts idlnte    an cttst t    te stt  idt  nss  nctttn  ts teittt  e t  tt   ts  na tetc     t  ttan nnc  atte attttt  to    ttn t   tttts  nta ts  t t tt  s   atc  t    tssta  ttan ts tt  e at   t  n   tett  nss  nctttn s   ant    nta    tt   ttt  ttn  tet  te e at   t t tttn t  e       t    t   tett  nss  nctttn s ns   t    t   n      ttstn   tatc       tn   t  tt tttnt   a t ttt       t  t t ta e t  n  tett   t  un     nss  nctttn s t     t      e  ttt    t   na te    nnte    aa t tt      ns    e t tssttt  to    ttn   t   t     t   at a e ts aa t tt   n  tc t   t    \n"
     ]
    },
    {
     "name": "stderr",
     "output_type": "stream",
     "text": [
      " 70%|████████████████████████████████████████████████████████▋                        | 70/100 [03:02<01:18,  2.60s/it]"
     ]
    },
    {
     "name": "stdout",
     "output_type": "stream",
     "text": [
      "loss at epoch  70  is  4.00785737166\n",
      "rsto tt nnnstrnc  tt  tttttt    tttt ttt     tttt ttt    t     t tt     tt t   t        tt t     t  t   t   t   ntttt  t    t n tt  t   t       n ttt      t  t  t ttt   t  t  t ttt   t tt  t   t      t     t n                   t tt       t  t   t   t     t tnttt             tt        tt  tt t   tttt    tt  t       tt t    tttt ttt     n   t    t  t   t t t   t       n ttt  t t      ttt    t ttt   t   tt    t       n ttt      tt     ttt    t     ttttt    tt     t t n    tt     t   tt    n ttt    t     tt  n ttt    t ttt tt   n ttt    t  tt      t ttt     tt t  t    tt  tt   tt t  t      t ttt   t unc  tttt ttt   t  ttt    t       n ttt   t  t         t t  t     tt ttt    t   t       t t   n  tt   t        n ttt      t    ttt    t    t       tt tt   t   t n   t n       t  t  tt t      ttt  ta  t  t  t  t      t   t  tt    t    t t   nt   t   tttt ttt     t  t t   t   t  t    t        t     t  t  tn  tcoo    t   t  t  t     t    tt         t      t t  t  t nt     t    tt t  t         tt    t t  ttttttt    tt t  t      t t      t  t t    tt t t  ttttttt      t    t    t    tttnt tt   tt  t   tt t  t    t  t  t  t t t  t  t  t t            ttt   tt          ttn     t tttn t     t t  t      as     t t     t  t  t  t    t  staio      tttt  t  t    t        t  t      t t       tt t   t  tt t    t    t     t n t     t t ttt   t    t t  t  t t    t ttt   t   t     t  t     tt       t  nc t t  ttt   tttt ttt    lnte     n  tt t t    t   tt    t       n ttt   t  t  ttt    t  tt   t      t t      t  tt   nn    tt  tttttt  t     tt  t   tttt   tt  t   t t  t      tt   t    t  tt  tt   t  tt     t   t  n   t tt       n ttt       nt    tt     tt   ttt  tt   t t  t     t   t t ttt  t          t    t   t tt       n ttt    t    t    t   n      tt t    t t        t    t  tt tttnt     t ttt       t  t t ta   t  n  t tt   t   n          n ttt    t     t         ttt    t      t       t     tt t tt      t       t t  ttt  t     tt    t   t     t    t a   t  tt t tt      t  t   t    \n"
     ]
    },
    {
     "name": "stderr",
     "output_type": "stream",
     "text": [
      " 80%|████████████████████████████████████████████████████████████████▊                | 80/100 [03:24<00:51,  2.56s/it]"
     ]
    },
    {
     "name": "stdout",
     "output_type": "stream",
     "text": [
      "loss at epoch  80  is  3.98559471811\n",
      "rst  t       rn   tt    t       t     t                        t                                                 t t                                                                                                                                                 t                                            t                  t     t                                                       t                                                                                                                        t                  t                                                                                 t t                                                    t                                                                                                                                                 t                                                                                           t                 t      t                                                                     t                                                                                                                                                              t                         t                                                                 t        t                                                                                               t                                                                         t         t                              t                 t                                      t    t           t        t                                                                                                         t                                                                                                                                                                                                 t                                                    t                                                                  t                     \n"
     ]
    },
    {
     "name": "stderr",
     "output_type": "stream",
     "text": [
      " 90%|████████████████████████████████████████████████████████████████████████▉        | 90/100 [03:46<00:25,  2.52s/it]"
     ]
    },
    {
     "name": "stdout",
     "output_type": "stream",
     "text": [
      "loss at epoch  90  is  3.89402366607\n",
      "rs           rn                                                                                                                                                                                                                                                                                                                                                                                                                                                                                                                                                                                                                                                                                                                                                                                                                                                                                                                                                                                                                                                                                                                                                                                                                                                                                                                                                                                                                                                                                                                                                                                                                                                                                                                                                                                                                                                                                                                                                                                                                                                          \n"
     ]
    },
    {
     "name": "stderr",
     "output_type": "stream",
     "text": [
      "100%|████████████████████████████████████████████████████████████████████████████████| 100/100 [04:08<00:00,  2.48s/it]\n"
     ]
    }
   ],
   "source": [
    "# initializing hidden state and squared gradient\n",
    "ht = [np.zeros((hidden_size, 1))]\n",
    "grad_squared_xh, grad_squared_hh, grad_squared_hy = np.zeros_like(Wxh), np.zeros_like(Whh), np.zeros_like(Why)\n",
    "\n",
    "loss = 0\n",
    "for e in tqdm(range(epochs)):\n",
    "    for steps in range(0, len(X), seq_size):\n",
    "        inputs = X[steps:steps+seq_size]\n",
    "        targets = y[steps:steps+seq_size]\n",
    "\n",
    "        # forward and backward pass\n",
    "        ht, pt, loss = forward_pass(inputs, ht)\n",
    "        dWhh, dWxh, dWhy = backward_pass(inputs, inputs, ht, pt)\n",
    "        \n",
    "        # adagrad\n",
    "        grad_squared_xh += dWxh ** 2\n",
    "        grad_squared_hh += dWhh ** 2\n",
    "        grad_squared_hy += dWhy ** 2\n",
    "        \n",
    "        # parameter update\n",
    "        Wxh -= dWxh / np.sqrt(grad_squared_xh + 1e-7) * learning_rate\n",
    "        Whh -= dWhh / np.sqrt(grad_squared_hh + 1e-7) * learning_rate\n",
    "        Why -= dWhy / np.sqrt(grad_squared_hy + 1e-7) * learning_rate\n",
    "    if e % 10 == 0:\n",
    "        print('loss at epoch ', e, ' is ', loss)\n",
    "        print(predict(X, Wxh, Whh, Why, ht))"
   ]
  },
  {
   "cell_type": "markdown",
   "metadata": {},
   "source": []
  }
 ],
 "metadata": {
  "kernelspec": {
   "display_name": "Python 3",
   "language": "python",
   "name": "python3"
  },
  "language_info": {
   "codemirror_mode": {
    "name": "ipython",
    "version": 3
   },
   "file_extension": ".py",
   "mimetype": "text/x-python",
   "name": "python",
   "nbconvert_exporter": "python",
   "pygments_lexer": "ipython3",
   "version": "3.6.3"
  },
  "toc": {
   "base_numbering": 1,
   "nav_menu": {},
   "number_sections": true,
   "sideBar": true,
   "skip_h1_title": true,
   "title_cell": "Table of Contents",
   "title_sidebar": "Contents",
   "toc_cell": false,
   "toc_position": {},
   "toc_section_display": true,
   "toc_window_display": false
  }
 },
 "nbformat": 4,
 "nbformat_minor": 2
}
